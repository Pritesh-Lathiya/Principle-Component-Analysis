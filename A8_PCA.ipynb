{
  "nbformat": 4,
  "nbformat_minor": 0,
  "metadata": {
    "colab": {
      "provenance": [],
      "collapsed_sections": [
        "yyqQMH95Qw9j",
        "2Sn3Wdfh2aht"
      ]
    },
    "kernelspec": {
      "name": "python3",
      "display_name": "Python 3"
    },
    "language_info": {
      "name": "python"
    }
  },
  "cells": [
    {
      "cell_type": "code",
      "execution_count": 210,
      "metadata": {
        "id": "HwJHpkulL1Il"
      },
      "outputs": [],
      "source": [
        "import pandas as pd\n",
        "import numpy as np\n",
        "from matplotlib import pyplot as plt\n",
        "import seaborn as sns\n",
        "from sklearn.preprocessing import scale \n",
        "from sklearn.decomposition import PCA\n",
        "import scipy.cluster.hierarchy as sch\n",
        "from sklearn.cluster import AgglomerativeClustering\n",
        "from scipy.cluster.hierarchy import linkage\n",
        "from sklearn.cluster import KMeans\n",
        "from sklearn.preprocessing import StandardScaler\n",
        "from sklearn import preprocessing\n",
        "import seaborn as sns\n",
        "from sklearn.cluster import DBSCAN"
      ]
    },
    {
      "cell_type": "markdown",
      "source": [
        "# Problem Statement\n",
        "\n",
        "---\n",
        "\n"
      ],
      "metadata": {
        "id": "KqB8CAeRNgPK"
      }
    },
    {
      "cell_type": "markdown",
      "source": [
        " * Perform Principal component analysis and perform clustering using first \n",
        "3 principal component scores (both heirarchial and k mean clustering(scree plot or elbow curve) and obtain \n",
        "optimum number of clusters and check whether we have obtained same number of clusters with the original data \n",
        "(class column we have ignored at the begining who shows it has 3 clusters)df\n"
      ],
      "metadata": {
        "id": "v3VsD1mHNrYM"
      }
    },
    {
      "cell_type": "markdown",
      "source": [
        "# DataFrame\n",
        "\n",
        "---\n",
        "\n"
      ],
      "metadata": {
        "id": "2B8d7e0uPGX6"
      }
    },
    {
      "cell_type": "code",
      "source": [
        "df=pd.read_csv(\"/content/wine.csv\")\n",
        "df.head()"
      ],
      "metadata": {
        "colab": {
          "base_uri": "https://localhost:8080/",
          "height": 206
        },
        "id": "cn7PA2sMNqkm",
        "outputId": "2f474f23-d5a3-4402-efd8-889db1455ac8"
      },
      "execution_count": 211,
      "outputs": [
        {
          "output_type": "execute_result",
          "data": {
            "text/plain": [
              "   Type  Alcohol  Malic   Ash  Alcalinity  Magnesium  Phenols  Flavanoids  \\\n",
              "0     1    14.23   1.71  2.43        15.6        127     2.80        3.06   \n",
              "1     1    13.20   1.78  2.14        11.2        100     2.65        2.76   \n",
              "2     1    13.16   2.36  2.67        18.6        101     2.80        3.24   \n",
              "3     1    14.37   1.95  2.50        16.8        113     3.85        3.49   \n",
              "4     1    13.24   2.59  2.87        21.0        118     2.80        2.69   \n",
              "\n",
              "   Nonflavanoids  Proanthocyanins  Color   Hue  Dilution  Proline  \n",
              "0           0.28             2.29   5.64  1.04      3.92     1065  \n",
              "1           0.26             1.28   4.38  1.05      3.40     1050  \n",
              "2           0.30             2.81   5.68  1.03      3.17     1185  \n",
              "3           0.24             2.18   7.80  0.86      3.45     1480  \n",
              "4           0.39             1.82   4.32  1.04      2.93      735  "
            ],
            "text/html": [
              "\n",
              "  <div id=\"df-9db6b1b8-89c7-4f81-9d07-8db3dc1deefc\">\n",
              "    <div class=\"colab-df-container\">\n",
              "      <div>\n",
              "<style scoped>\n",
              "    .dataframe tbody tr th:only-of-type {\n",
              "        vertical-align: middle;\n",
              "    }\n",
              "\n",
              "    .dataframe tbody tr th {\n",
              "        vertical-align: top;\n",
              "    }\n",
              "\n",
              "    .dataframe thead th {\n",
              "        text-align: right;\n",
              "    }\n",
              "</style>\n",
              "<table border=\"1\" class=\"dataframe\">\n",
              "  <thead>\n",
              "    <tr style=\"text-align: right;\">\n",
              "      <th></th>\n",
              "      <th>Type</th>\n",
              "      <th>Alcohol</th>\n",
              "      <th>Malic</th>\n",
              "      <th>Ash</th>\n",
              "      <th>Alcalinity</th>\n",
              "      <th>Magnesium</th>\n",
              "      <th>Phenols</th>\n",
              "      <th>Flavanoids</th>\n",
              "      <th>Nonflavanoids</th>\n",
              "      <th>Proanthocyanins</th>\n",
              "      <th>Color</th>\n",
              "      <th>Hue</th>\n",
              "      <th>Dilution</th>\n",
              "      <th>Proline</th>\n",
              "    </tr>\n",
              "  </thead>\n",
              "  <tbody>\n",
              "    <tr>\n",
              "      <th>0</th>\n",
              "      <td>1</td>\n",
              "      <td>14.23</td>\n",
              "      <td>1.71</td>\n",
              "      <td>2.43</td>\n",
              "      <td>15.6</td>\n",
              "      <td>127</td>\n",
              "      <td>2.80</td>\n",
              "      <td>3.06</td>\n",
              "      <td>0.28</td>\n",
              "      <td>2.29</td>\n",
              "      <td>5.64</td>\n",
              "      <td>1.04</td>\n",
              "      <td>3.92</td>\n",
              "      <td>1065</td>\n",
              "    </tr>\n",
              "    <tr>\n",
              "      <th>1</th>\n",
              "      <td>1</td>\n",
              "      <td>13.20</td>\n",
              "      <td>1.78</td>\n",
              "      <td>2.14</td>\n",
              "      <td>11.2</td>\n",
              "      <td>100</td>\n",
              "      <td>2.65</td>\n",
              "      <td>2.76</td>\n",
              "      <td>0.26</td>\n",
              "      <td>1.28</td>\n",
              "      <td>4.38</td>\n",
              "      <td>1.05</td>\n",
              "      <td>3.40</td>\n",
              "      <td>1050</td>\n",
              "    </tr>\n",
              "    <tr>\n",
              "      <th>2</th>\n",
              "      <td>1</td>\n",
              "      <td>13.16</td>\n",
              "      <td>2.36</td>\n",
              "      <td>2.67</td>\n",
              "      <td>18.6</td>\n",
              "      <td>101</td>\n",
              "      <td>2.80</td>\n",
              "      <td>3.24</td>\n",
              "      <td>0.30</td>\n",
              "      <td>2.81</td>\n",
              "      <td>5.68</td>\n",
              "      <td>1.03</td>\n",
              "      <td>3.17</td>\n",
              "      <td>1185</td>\n",
              "    </tr>\n",
              "    <tr>\n",
              "      <th>3</th>\n",
              "      <td>1</td>\n",
              "      <td>14.37</td>\n",
              "      <td>1.95</td>\n",
              "      <td>2.50</td>\n",
              "      <td>16.8</td>\n",
              "      <td>113</td>\n",
              "      <td>3.85</td>\n",
              "      <td>3.49</td>\n",
              "      <td>0.24</td>\n",
              "      <td>2.18</td>\n",
              "      <td>7.80</td>\n",
              "      <td>0.86</td>\n",
              "      <td>3.45</td>\n",
              "      <td>1480</td>\n",
              "    </tr>\n",
              "    <tr>\n",
              "      <th>4</th>\n",
              "      <td>1</td>\n",
              "      <td>13.24</td>\n",
              "      <td>2.59</td>\n",
              "      <td>2.87</td>\n",
              "      <td>21.0</td>\n",
              "      <td>118</td>\n",
              "      <td>2.80</td>\n",
              "      <td>2.69</td>\n",
              "      <td>0.39</td>\n",
              "      <td>1.82</td>\n",
              "      <td>4.32</td>\n",
              "      <td>1.04</td>\n",
              "      <td>2.93</td>\n",
              "      <td>735</td>\n",
              "    </tr>\n",
              "  </tbody>\n",
              "</table>\n",
              "</div>\n",
              "      <button class=\"colab-df-convert\" onclick=\"convertToInteractive('df-9db6b1b8-89c7-4f81-9d07-8db3dc1deefc')\"\n",
              "              title=\"Convert this dataframe to an interactive table.\"\n",
              "              style=\"display:none;\">\n",
              "        \n",
              "  <svg xmlns=\"http://www.w3.org/2000/svg\" height=\"24px\"viewBox=\"0 0 24 24\"\n",
              "       width=\"24px\">\n",
              "    <path d=\"M0 0h24v24H0V0z\" fill=\"none\"/>\n",
              "    <path d=\"M18.56 5.44l.94 2.06.94-2.06 2.06-.94-2.06-.94-.94-2.06-.94 2.06-2.06.94zm-11 1L8.5 8.5l.94-2.06 2.06-.94-2.06-.94L8.5 2.5l-.94 2.06-2.06.94zm10 10l.94 2.06.94-2.06 2.06-.94-2.06-.94-.94-2.06-.94 2.06-2.06.94z\"/><path d=\"M17.41 7.96l-1.37-1.37c-.4-.4-.92-.59-1.43-.59-.52 0-1.04.2-1.43.59L10.3 9.45l-7.72 7.72c-.78.78-.78 2.05 0 2.83L4 21.41c.39.39.9.59 1.41.59.51 0 1.02-.2 1.41-.59l7.78-7.78 2.81-2.81c.8-.78.8-2.07 0-2.86zM5.41 20L4 18.59l7.72-7.72 1.47 1.35L5.41 20z\"/>\n",
              "  </svg>\n",
              "      </button>\n",
              "      \n",
              "  <style>\n",
              "    .colab-df-container {\n",
              "      display:flex;\n",
              "      flex-wrap:wrap;\n",
              "      gap: 12px;\n",
              "    }\n",
              "\n",
              "    .colab-df-convert {\n",
              "      background-color: #E8F0FE;\n",
              "      border: none;\n",
              "      border-radius: 50%;\n",
              "      cursor: pointer;\n",
              "      display: none;\n",
              "      fill: #1967D2;\n",
              "      height: 32px;\n",
              "      padding: 0 0 0 0;\n",
              "      width: 32px;\n",
              "    }\n",
              "\n",
              "    .colab-df-convert:hover {\n",
              "      background-color: #E2EBFA;\n",
              "      box-shadow: 0px 1px 2px rgba(60, 64, 67, 0.3), 0px 1px 3px 1px rgba(60, 64, 67, 0.15);\n",
              "      fill: #174EA6;\n",
              "    }\n",
              "\n",
              "    [theme=dark] .colab-df-convert {\n",
              "      background-color: #3B4455;\n",
              "      fill: #D2E3FC;\n",
              "    }\n",
              "\n",
              "    [theme=dark] .colab-df-convert:hover {\n",
              "      background-color: #434B5C;\n",
              "      box-shadow: 0px 1px 3px 1px rgba(0, 0, 0, 0.15);\n",
              "      filter: drop-shadow(0px 1px 2px rgba(0, 0, 0, 0.3));\n",
              "      fill: #FFFFFF;\n",
              "    }\n",
              "  </style>\n",
              "\n",
              "      <script>\n",
              "        const buttonEl =\n",
              "          document.querySelector('#df-9db6b1b8-89c7-4f81-9d07-8db3dc1deefc button.colab-df-convert');\n",
              "        buttonEl.style.display =\n",
              "          google.colab.kernel.accessAllowed ? 'block' : 'none';\n",
              "\n",
              "        async function convertToInteractive(key) {\n",
              "          const element = document.querySelector('#df-9db6b1b8-89c7-4f81-9d07-8db3dc1deefc');\n",
              "          const dataTable =\n",
              "            await google.colab.kernel.invokeFunction('convertToInteractive',\n",
              "                                                     [key], {});\n",
              "          if (!dataTable) return;\n",
              "\n",
              "          const docLinkHtml = 'Like what you see? Visit the ' +\n",
              "            '<a target=\"_blank\" href=https://colab.research.google.com/notebooks/data_table.ipynb>data table notebook</a>'\n",
              "            + ' to learn more about interactive tables.';\n",
              "          element.innerHTML = '';\n",
              "          dataTable['output_type'] = 'display_data';\n",
              "          await google.colab.output.renderOutput(dataTable, element);\n",
              "          const docLink = document.createElement('div');\n",
              "          docLink.innerHTML = docLinkHtml;\n",
              "          element.appendChild(docLink);\n",
              "        }\n",
              "      </script>\n",
              "    </div>\n",
              "  </div>\n",
              "  "
            ]
          },
          "metadata": {},
          "execution_count": 211
        }
      ]
    },
    {
      "cell_type": "markdown",
      "source": [
        "# Exploratory Data Analysis"
      ],
      "metadata": {
        "id": "g2KlPptIy0sk"
      }
    },
    {
      "cell_type": "code",
      "source": [
        "df.info()"
      ],
      "metadata": {
        "id": "AiJXHwOrNeqT",
        "colab": {
          "base_uri": "https://localhost:8080/"
        },
        "outputId": "efe1f24a-4748-4915-919e-82f43cb72aaf"
      },
      "execution_count": 212,
      "outputs": [
        {
          "output_type": "stream",
          "name": "stdout",
          "text": [
            "<class 'pandas.core.frame.DataFrame'>\n",
            "RangeIndex: 178 entries, 0 to 177\n",
            "Data columns (total 14 columns):\n",
            " #   Column           Non-Null Count  Dtype  \n",
            "---  ------           --------------  -----  \n",
            " 0   Type             178 non-null    int64  \n",
            " 1   Alcohol          178 non-null    float64\n",
            " 2   Malic            178 non-null    float64\n",
            " 3   Ash              178 non-null    float64\n",
            " 4   Alcalinity       178 non-null    float64\n",
            " 5   Magnesium        178 non-null    int64  \n",
            " 6   Phenols          178 non-null    float64\n",
            " 7   Flavanoids       178 non-null    float64\n",
            " 8   Nonflavanoids    178 non-null    float64\n",
            " 9   Proanthocyanins  178 non-null    float64\n",
            " 10  Color            178 non-null    float64\n",
            " 11  Hue              178 non-null    float64\n",
            " 12  Dilution         178 non-null    float64\n",
            " 13  Proline          178 non-null    int64  \n",
            "dtypes: float64(11), int64(3)\n",
            "memory usage: 19.6 KB\n"
          ]
        }
      ]
    },
    {
      "cell_type": "code",
      "source": [
        "df.describe()"
      ],
      "metadata": {
        "id": "NthUlGahNeg0",
        "colab": {
          "base_uri": "https://localhost:8080/",
          "height": 364
        },
        "outputId": "4121cb85-afd4-49c7-f599-9f248910b58d"
      },
      "execution_count": 213,
      "outputs": [
        {
          "output_type": "execute_result",
          "data": {
            "text/plain": [
              "             Type     Alcohol       Malic         Ash  Alcalinity   Magnesium  \\\n",
              "count  178.000000  178.000000  178.000000  178.000000  178.000000  178.000000   \n",
              "mean     1.938202   13.000618    2.336348    2.366517   19.494944   99.741573   \n",
              "std      0.775035    0.811827    1.117146    0.274344    3.339564   14.282484   \n",
              "min      1.000000   11.030000    0.740000    1.360000   10.600000   70.000000   \n",
              "25%      1.000000   12.362500    1.602500    2.210000   17.200000   88.000000   \n",
              "50%      2.000000   13.050000    1.865000    2.360000   19.500000   98.000000   \n",
              "75%      3.000000   13.677500    3.082500    2.557500   21.500000  107.000000   \n",
              "max      3.000000   14.830000    5.800000    3.230000   30.000000  162.000000   \n",
              "\n",
              "          Phenols  Flavanoids  Nonflavanoids  Proanthocyanins       Color  \\\n",
              "count  178.000000  178.000000     178.000000       178.000000  178.000000   \n",
              "mean     2.295112    2.029270       0.361854         1.590899    5.058090   \n",
              "std      0.625851    0.998859       0.124453         0.572359    2.318286   \n",
              "min      0.980000    0.340000       0.130000         0.410000    1.280000   \n",
              "25%      1.742500    1.205000       0.270000         1.250000    3.220000   \n",
              "50%      2.355000    2.135000       0.340000         1.555000    4.690000   \n",
              "75%      2.800000    2.875000       0.437500         1.950000    6.200000   \n",
              "max      3.880000    5.080000       0.660000         3.580000   13.000000   \n",
              "\n",
              "              Hue    Dilution      Proline  \n",
              "count  178.000000  178.000000   178.000000  \n",
              "mean     0.957449    2.611685   746.893258  \n",
              "std      0.228572    0.709990   314.907474  \n",
              "min      0.480000    1.270000   278.000000  \n",
              "25%      0.782500    1.937500   500.500000  \n",
              "50%      0.965000    2.780000   673.500000  \n",
              "75%      1.120000    3.170000   985.000000  \n",
              "max      1.710000    4.000000  1680.000000  "
            ],
            "text/html": [
              "\n",
              "  <div id=\"df-be4d5d11-c90e-413c-9c05-13fd5ca3f7c2\">\n",
              "    <div class=\"colab-df-container\">\n",
              "      <div>\n",
              "<style scoped>\n",
              "    .dataframe tbody tr th:only-of-type {\n",
              "        vertical-align: middle;\n",
              "    }\n",
              "\n",
              "    .dataframe tbody tr th {\n",
              "        vertical-align: top;\n",
              "    }\n",
              "\n",
              "    .dataframe thead th {\n",
              "        text-align: right;\n",
              "    }\n",
              "</style>\n",
              "<table border=\"1\" class=\"dataframe\">\n",
              "  <thead>\n",
              "    <tr style=\"text-align: right;\">\n",
              "      <th></th>\n",
              "      <th>Type</th>\n",
              "      <th>Alcohol</th>\n",
              "      <th>Malic</th>\n",
              "      <th>Ash</th>\n",
              "      <th>Alcalinity</th>\n",
              "      <th>Magnesium</th>\n",
              "      <th>Phenols</th>\n",
              "      <th>Flavanoids</th>\n",
              "      <th>Nonflavanoids</th>\n",
              "      <th>Proanthocyanins</th>\n",
              "      <th>Color</th>\n",
              "      <th>Hue</th>\n",
              "      <th>Dilution</th>\n",
              "      <th>Proline</th>\n",
              "    </tr>\n",
              "  </thead>\n",
              "  <tbody>\n",
              "    <tr>\n",
              "      <th>count</th>\n",
              "      <td>178.000000</td>\n",
              "      <td>178.000000</td>\n",
              "      <td>178.000000</td>\n",
              "      <td>178.000000</td>\n",
              "      <td>178.000000</td>\n",
              "      <td>178.000000</td>\n",
              "      <td>178.000000</td>\n",
              "      <td>178.000000</td>\n",
              "      <td>178.000000</td>\n",
              "      <td>178.000000</td>\n",
              "      <td>178.000000</td>\n",
              "      <td>178.000000</td>\n",
              "      <td>178.000000</td>\n",
              "      <td>178.000000</td>\n",
              "    </tr>\n",
              "    <tr>\n",
              "      <th>mean</th>\n",
              "      <td>1.938202</td>\n",
              "      <td>13.000618</td>\n",
              "      <td>2.336348</td>\n",
              "      <td>2.366517</td>\n",
              "      <td>19.494944</td>\n",
              "      <td>99.741573</td>\n",
              "      <td>2.295112</td>\n",
              "      <td>2.029270</td>\n",
              "      <td>0.361854</td>\n",
              "      <td>1.590899</td>\n",
              "      <td>5.058090</td>\n",
              "      <td>0.957449</td>\n",
              "      <td>2.611685</td>\n",
              "      <td>746.893258</td>\n",
              "    </tr>\n",
              "    <tr>\n",
              "      <th>std</th>\n",
              "      <td>0.775035</td>\n",
              "      <td>0.811827</td>\n",
              "      <td>1.117146</td>\n",
              "      <td>0.274344</td>\n",
              "      <td>3.339564</td>\n",
              "      <td>14.282484</td>\n",
              "      <td>0.625851</td>\n",
              "      <td>0.998859</td>\n",
              "      <td>0.124453</td>\n",
              "      <td>0.572359</td>\n",
              "      <td>2.318286</td>\n",
              "      <td>0.228572</td>\n",
              "      <td>0.709990</td>\n",
              "      <td>314.907474</td>\n",
              "    </tr>\n",
              "    <tr>\n",
              "      <th>min</th>\n",
              "      <td>1.000000</td>\n",
              "      <td>11.030000</td>\n",
              "      <td>0.740000</td>\n",
              "      <td>1.360000</td>\n",
              "      <td>10.600000</td>\n",
              "      <td>70.000000</td>\n",
              "      <td>0.980000</td>\n",
              "      <td>0.340000</td>\n",
              "      <td>0.130000</td>\n",
              "      <td>0.410000</td>\n",
              "      <td>1.280000</td>\n",
              "      <td>0.480000</td>\n",
              "      <td>1.270000</td>\n",
              "      <td>278.000000</td>\n",
              "    </tr>\n",
              "    <tr>\n",
              "      <th>25%</th>\n",
              "      <td>1.000000</td>\n",
              "      <td>12.362500</td>\n",
              "      <td>1.602500</td>\n",
              "      <td>2.210000</td>\n",
              "      <td>17.200000</td>\n",
              "      <td>88.000000</td>\n",
              "      <td>1.742500</td>\n",
              "      <td>1.205000</td>\n",
              "      <td>0.270000</td>\n",
              "      <td>1.250000</td>\n",
              "      <td>3.220000</td>\n",
              "      <td>0.782500</td>\n",
              "      <td>1.937500</td>\n",
              "      <td>500.500000</td>\n",
              "    </tr>\n",
              "    <tr>\n",
              "      <th>50%</th>\n",
              "      <td>2.000000</td>\n",
              "      <td>13.050000</td>\n",
              "      <td>1.865000</td>\n",
              "      <td>2.360000</td>\n",
              "      <td>19.500000</td>\n",
              "      <td>98.000000</td>\n",
              "      <td>2.355000</td>\n",
              "      <td>2.135000</td>\n",
              "      <td>0.340000</td>\n",
              "      <td>1.555000</td>\n",
              "      <td>4.690000</td>\n",
              "      <td>0.965000</td>\n",
              "      <td>2.780000</td>\n",
              "      <td>673.500000</td>\n",
              "    </tr>\n",
              "    <tr>\n",
              "      <th>75%</th>\n",
              "      <td>3.000000</td>\n",
              "      <td>13.677500</td>\n",
              "      <td>3.082500</td>\n",
              "      <td>2.557500</td>\n",
              "      <td>21.500000</td>\n",
              "      <td>107.000000</td>\n",
              "      <td>2.800000</td>\n",
              "      <td>2.875000</td>\n",
              "      <td>0.437500</td>\n",
              "      <td>1.950000</td>\n",
              "      <td>6.200000</td>\n",
              "      <td>1.120000</td>\n",
              "      <td>3.170000</td>\n",
              "      <td>985.000000</td>\n",
              "    </tr>\n",
              "    <tr>\n",
              "      <th>max</th>\n",
              "      <td>3.000000</td>\n",
              "      <td>14.830000</td>\n",
              "      <td>5.800000</td>\n",
              "      <td>3.230000</td>\n",
              "      <td>30.000000</td>\n",
              "      <td>162.000000</td>\n",
              "      <td>3.880000</td>\n",
              "      <td>5.080000</td>\n",
              "      <td>0.660000</td>\n",
              "      <td>3.580000</td>\n",
              "      <td>13.000000</td>\n",
              "      <td>1.710000</td>\n",
              "      <td>4.000000</td>\n",
              "      <td>1680.000000</td>\n",
              "    </tr>\n",
              "  </tbody>\n",
              "</table>\n",
              "</div>\n",
              "      <button class=\"colab-df-convert\" onclick=\"convertToInteractive('df-be4d5d11-c90e-413c-9c05-13fd5ca3f7c2')\"\n",
              "              title=\"Convert this dataframe to an interactive table.\"\n",
              "              style=\"display:none;\">\n",
              "        \n",
              "  <svg xmlns=\"http://www.w3.org/2000/svg\" height=\"24px\"viewBox=\"0 0 24 24\"\n",
              "       width=\"24px\">\n",
              "    <path d=\"M0 0h24v24H0V0z\" fill=\"none\"/>\n",
              "    <path d=\"M18.56 5.44l.94 2.06.94-2.06 2.06-.94-2.06-.94-.94-2.06-.94 2.06-2.06.94zm-11 1L8.5 8.5l.94-2.06 2.06-.94-2.06-.94L8.5 2.5l-.94 2.06-2.06.94zm10 10l.94 2.06.94-2.06 2.06-.94-2.06-.94-.94-2.06-.94 2.06-2.06.94z\"/><path d=\"M17.41 7.96l-1.37-1.37c-.4-.4-.92-.59-1.43-.59-.52 0-1.04.2-1.43.59L10.3 9.45l-7.72 7.72c-.78.78-.78 2.05 0 2.83L4 21.41c.39.39.9.59 1.41.59.51 0 1.02-.2 1.41-.59l7.78-7.78 2.81-2.81c.8-.78.8-2.07 0-2.86zM5.41 20L4 18.59l7.72-7.72 1.47 1.35L5.41 20z\"/>\n",
              "  </svg>\n",
              "      </button>\n",
              "      \n",
              "  <style>\n",
              "    .colab-df-container {\n",
              "      display:flex;\n",
              "      flex-wrap:wrap;\n",
              "      gap: 12px;\n",
              "    }\n",
              "\n",
              "    .colab-df-convert {\n",
              "      background-color: #E8F0FE;\n",
              "      border: none;\n",
              "      border-radius: 50%;\n",
              "      cursor: pointer;\n",
              "      display: none;\n",
              "      fill: #1967D2;\n",
              "      height: 32px;\n",
              "      padding: 0 0 0 0;\n",
              "      width: 32px;\n",
              "    }\n",
              "\n",
              "    .colab-df-convert:hover {\n",
              "      background-color: #E2EBFA;\n",
              "      box-shadow: 0px 1px 2px rgba(60, 64, 67, 0.3), 0px 1px 3px 1px rgba(60, 64, 67, 0.15);\n",
              "      fill: #174EA6;\n",
              "    }\n",
              "\n",
              "    [theme=dark] .colab-df-convert {\n",
              "      background-color: #3B4455;\n",
              "      fill: #D2E3FC;\n",
              "    }\n",
              "\n",
              "    [theme=dark] .colab-df-convert:hover {\n",
              "      background-color: #434B5C;\n",
              "      box-shadow: 0px 1px 3px 1px rgba(0, 0, 0, 0.15);\n",
              "      filter: drop-shadow(0px 1px 2px rgba(0, 0, 0, 0.3));\n",
              "      fill: #FFFFFF;\n",
              "    }\n",
              "  </style>\n",
              "\n",
              "      <script>\n",
              "        const buttonEl =\n",
              "          document.querySelector('#df-be4d5d11-c90e-413c-9c05-13fd5ca3f7c2 button.colab-df-convert');\n",
              "        buttonEl.style.display =\n",
              "          google.colab.kernel.accessAllowed ? 'block' : 'none';\n",
              "\n",
              "        async function convertToInteractive(key) {\n",
              "          const element = document.querySelector('#df-be4d5d11-c90e-413c-9c05-13fd5ca3f7c2');\n",
              "          const dataTable =\n",
              "            await google.colab.kernel.invokeFunction('convertToInteractive',\n",
              "                                                     [key], {});\n",
              "          if (!dataTable) return;\n",
              "\n",
              "          const docLinkHtml = 'Like what you see? Visit the ' +\n",
              "            '<a target=\"_blank\" href=https://colab.research.google.com/notebooks/data_table.ipynb>data table notebook</a>'\n",
              "            + ' to learn more about interactive tables.';\n",
              "          element.innerHTML = '';\n",
              "          dataTable['output_type'] = 'display_data';\n",
              "          await google.colab.output.renderOutput(dataTable, element);\n",
              "          const docLink = document.createElement('div');\n",
              "          docLink.innerHTML = docLinkHtml;\n",
              "          element.appendChild(docLink);\n",
              "        }\n",
              "      </script>\n",
              "    </div>\n",
              "  </div>\n",
              "  "
            ]
          },
          "metadata": {},
          "execution_count": 213
        }
      ]
    },
    {
      "cell_type": "code",
      "source": [
        "df.isnull().sum()"
      ],
      "metadata": {
        "colab": {
          "base_uri": "https://localhost:8080/"
        },
        "id": "6l8ErqgwPQDZ",
        "outputId": "0814327d-28b4-42d4-9bd6-8ef44c7a6406"
      },
      "execution_count": 214,
      "outputs": [
        {
          "output_type": "execute_result",
          "data": {
            "text/plain": [
              "Type               0\n",
              "Alcohol            0\n",
              "Malic              0\n",
              "Ash                0\n",
              "Alcalinity         0\n",
              "Magnesium          0\n",
              "Phenols            0\n",
              "Flavanoids         0\n",
              "Nonflavanoids      0\n",
              "Proanthocyanins    0\n",
              "Color              0\n",
              "Hue                0\n",
              "Dilution           0\n",
              "Proline            0\n",
              "dtype: int64"
            ]
          },
          "metadata": {},
          "execution_count": 214
        }
      ]
    },
    {
      "cell_type": "code",
      "source": [
        "df.duplicated().sum()"
      ],
      "metadata": {
        "colab": {
          "base_uri": "https://localhost:8080/"
        },
        "id": "PzNPDGFdPSlf",
        "outputId": "e5c4e5a8-f414-47c3-a6cb-a6933bc03c51"
      },
      "execution_count": 215,
      "outputs": [
        {
          "output_type": "execute_result",
          "data": {
            "text/plain": [
              "0"
            ]
          },
          "metadata": {},
          "execution_count": 215
        }
      ]
    },
    {
      "cell_type": "code",
      "source": [
        "plt.figure(figsize=(9,7))\n",
        "sns.heatmap(df.corr(),cbar=True,annot=True,cmap='Blues')\n",
        "plt.show()"
      ],
      "metadata": {
        "colab": {
          "base_uri": "https://localhost:8080/",
          "height": 505
        },
        "id": "Ht3oNh7KPUCr",
        "outputId": "b3abc2eb-3464-4f0a-c063-8c20c198d3e8"
      },
      "execution_count": 216,
      "outputs": [
        {
          "output_type": "display_data",
          "data": {
            "text/plain": [
              "<Figure size 648x504 with 2 Axes>"
            ],
            "image/png": "[encoded data removed]"
          },
          "metadata": {
            "needs_background": "light"
          }
        }
      ]
    },
    {
      "cell_type": "code",
      "source": [
        "for col in df:\n",
        "    print(f'{col}: {df[col].unique()}')"
      ],
      "metadata": {
        "colab": {
          "base_uri": "https://localhost:8080/"
        },
        "id": "akhxrPmtPVMs",
        "outputId": "5f6bce6f-73ed-4963-d745-6e55f9151cbb"
      },
      "execution_count": 217,
      "outputs": [
        {
          "output_type": "stream",
          "name": "stdout",
          "text": [
            "Type: [1 2 3]\n",
            "Alcohol: [14.23 13.2  13.16 14.37 13.24 14.2  14.39 14.06 14.83 13.86 14.1  14.12\n",
            " 13.75 14.75 14.38 13.63 14.3  13.83 14.19 13.64 12.93 13.71 12.85 13.5\n",
            " 13.05 13.39 13.3  13.87 14.02 13.73 13.58 13.68 13.76 13.51 13.48 13.28\n",
            " 13.07 14.22 13.56 13.41 13.88 14.21 13.9  13.94 13.82 13.77 13.74 13.29\n",
            " 13.72 12.37 12.33 12.64 13.67 12.17 13.11 13.34 12.21 12.29 13.49 12.99\n",
            " 11.96 11.66 13.03 11.84 12.7  12.   12.72 12.08 12.67 12.16 11.65 11.64\n",
            " 12.69 11.62 12.47 11.81 12.6  12.34 11.82 12.51 12.42 12.25 12.22 11.61\n",
            " 11.46 12.52 11.76 11.41 11.03 12.77 11.45 11.56 11.87 12.07 12.43 11.79\n",
            " 12.04 12.86 12.88 12.81 12.53 12.84 13.36 13.52 13.62 12.87 13.32 13.08\n",
            " 12.79 13.23 12.58 13.17 13.84 12.45 14.34 12.36 13.69 12.96 13.78 13.45\n",
            " 12.82 13.4  12.2  14.16 13.27 14.13]\n",
            "Malic: [1.71 1.78 2.36 1.95 2.59 1.76 1.87 2.15 1.64 1.35 2.16 1.48 1.73 1.81\n",
            " 1.92 1.57 1.59 3.1  1.63 3.8  1.86 1.6  2.05 1.77 1.72 1.9  1.68 1.5\n",
            " 1.66 1.83 1.53 1.8  1.65 3.99 3.84 1.89 3.98 4.04 3.59 2.02 1.75 1.67\n",
            " 1.7  1.97 1.43 0.94 1.1  1.36 1.25 1.13 1.45 1.21 1.01 1.17 1.19 1.61\n",
            " 1.51 1.09 1.88 0.9  2.89 0.99 3.87 0.92 3.86 0.89 0.98 2.06 1.33 2.83\n",
            " 1.99 1.52 2.12 1.41 1.07 3.17 2.08 1.34 2.45 2.55 1.29 3.74 2.43 2.68\n",
            " 0.74 1.39 1.47 3.43 2.4  4.43 5.8  4.31 2.13 4.3  2.99 2.31 3.55 1.24\n",
            " 2.46 4.72 5.51 2.96 2.81 2.56 4.95 3.88 3.57 5.04 4.61 3.24 3.9  3.12\n",
            " 2.67 3.3  5.19 4.12 3.03 3.83 3.26 3.27 3.45 2.76 4.36 3.7  3.37 2.58\n",
            " 4.6  2.39 2.51 5.65 3.91 4.28 4.1 ]\n",
            "Ash: [2.43 2.14 2.67 2.5  2.87 2.45 2.61 2.17 2.27 2.3  2.32 2.41 2.39 2.38\n",
            " 2.7  2.72 2.62 2.48 2.56 2.28 2.65 2.36 2.52 3.22 2.8  2.21 2.84 2.55\n",
            " 2.1  2.51 2.31 2.12 2.59 2.29 2.44 2.4  2.04 2.6  2.42 2.68 2.25 2.46\n",
            " 1.36 2.02 1.92 2.16 2.53 1.7  1.75 2.24 1.71 2.23 1.95 2.   2.2  2.58\n",
            " 2.26 2.22 2.74 1.98 1.9  1.88 1.94 1.82 2.92 1.99 2.19 3.23 2.73 2.13\n",
            " 2.78 2.54 2.64 2.35 2.15 2.75 2.69 2.86 2.37]\n",
            "Alcalinity: [15.6 11.2 18.6 16.8 21.  15.2 14.6 17.6 14.  16.  18.  11.4 12.  17.2\n",
            " 20.  16.5 16.6 17.8 25.  16.1 17.  19.4 22.5 19.1 19.5 19.  20.5 15.5\n",
            " 13.2 16.2 18.8 15.  17.5 18.9 17.4 12.4 17.1 16.4 16.3 16.7 10.6 18.1\n",
            " 19.6 20.4 24.  30.  14.8 23.  22.8 26.  21.6 23.6 18.5 22.  20.7 21.5\n",
            " 20.8 28.5 26.5 24.5 23.5 25.5 27. ]\n",
            "Magnesium: [127 100 101 113 118 112  96 121  97  98 105  95  89  91 102 120 115 108\n",
            " 116 126 124  93  94 107 106 104 132 110 128 117  90 103 111  92  88  87\n",
            "  78 151  86 139 136  85  99  84  70  81  80 162 134 119  82 122 123]\n",
            "Phenols: [2.8  2.65 3.85 3.27 2.5  2.6  2.98 2.95 2.2  3.1  3.3  2.85 2.7  3.\n",
            " 2.41 2.61 2.48 2.53 2.63 2.4  2.86 2.42 2.35 2.45 3.15 3.25 2.64 2.75\n",
            " 2.88 2.72 3.88 2.96 3.2  3.4  1.98 2.05 2.02 2.1  3.5  1.89 2.11 1.85\n",
            " 1.1  1.88 3.38 1.61 1.95 1.72 1.9  2.83 2.   1.65 1.78 1.92 1.6  1.45\n",
            " 1.38 3.02 2.55 3.52 2.23 2.56 1.68 2.36 2.74 3.18 1.75 2.46 1.63 2.9\n",
            " 2.62 2.13 2.22 1.51 1.3  1.15 1.7  1.62 1.79 2.32 1.54 1.4  1.55 1.5\n",
            " 0.98 1.93 1.41 1.48 1.8  1.74 2.3  1.83 1.39 1.35 1.28 1.25 1.59]\n",
            "Flavanoids: [3.06 2.76 3.24 3.49 2.69 3.39 2.52 2.51 2.98 3.15 3.32 2.43 3.69 3.64\n",
            " 2.91 3.14 3.4  3.93 3.03 3.17 2.41 2.88 2.37 2.61 2.68 2.94 2.19 2.97\n",
            " 2.33 3.25 3.19 2.74 2.53 2.64 3.04 3.29 3.56 2.63 3.   2.65 2.92 3.54\n",
            " 3.27 2.99 3.74 2.79 2.9  2.78 3.23 3.67 0.57 1.09 1.41 1.79 3.1  1.75\n",
            " 3.18 2.   1.3  1.28 1.02 2.86 1.84 2.89 2.14 1.57 2.03 1.32 1.85 2.55\n",
            " 2.26 1.58 1.59 2.21 1.94 1.69 1.61 1.5  1.25 1.46 2.25 2.27 0.99 2.5\n",
            " 3.75 2.17 1.36 2.11 1.64 1.92 1.76 2.04 2.58 2.01 2.29 1.6  2.09 5.08\n",
            " 2.13 2.24 2.45 1.22 1.2  0.58 0.66 0.47 0.6  0.48 0.5  0.52 0.8  0.78\n",
            " 0.55 0.34 0.65 0.76 1.39 0.83 0.63 1.31 1.1  0.92 0.56 0.7  0.68 0.84\n",
            " 0.96 0.49 0.51 0.61 0.75 0.69]\n",
            "Nonflavanoids: [0.28 0.26 0.3  0.24 0.39 0.34 0.31 0.29 0.22 0.43 0.33 0.4  0.32 0.17\n",
            " 0.25 0.27 0.47 0.37 0.42 0.5  0.2  0.21 0.19 0.63 0.53 0.45 0.55 0.14\n",
            " 0.13 0.35 0.61 0.48 0.52 0.58 0.66 0.6  0.41 0.44 0.56]\n",
            "Proanthocyanins: [2.29 1.28 2.81 2.18 1.82 1.97 1.98 1.25 1.85 2.38 1.57 1.81 2.96 1.46\n",
            " 1.72 1.86 1.66 2.1  1.69 1.92 1.45 1.35 1.76 1.95 1.54 1.36 1.44 1.37\n",
            " 2.08 2.34 1.48 1.7  2.03 2.19 2.14 2.91 1.87 1.68 1.62 2.45 2.04 0.42\n",
            " 0.41 0.62 0.73 1.03 2.28 1.04 2.5  1.96 1.65 1.15 0.95 2.76 1.43 1.77\n",
            " 1.4  2.35 1.56 1.34 1.38 1.64 1.63 1.99 3.28 1.31 1.42 2.49 3.58 1.22\n",
            " 1.05 2.01 1.53 1.61 0.83 1.83 1.71 1.9  0.94 0.84 0.8  1.1  0.88 0.81\n",
            " 0.75 0.64 0.55 1.02 1.14 1.3  0.68 0.86 1.26 1.55 2.7  0.96 0.97 1.11\n",
            " 1.24 1.06 1.41]\n",
            "Color: [ 5.64      4.38      5.68      7.8       4.32      6.75      5.25\n",
            "  5.05      5.2       7.22      5.75      5.        5.6       5.4\n",
            "  7.5       7.3       6.2       6.6       8.7       5.1       5.65\n",
            "  4.5       3.8       3.93      3.52      3.58      4.8       3.95\n",
            "  4.7       5.7       6.9       3.84      4.2       4.6       4.25\n",
            "  3.7       6.13      4.28      5.43      4.36      5.04      5.24\n",
            "  4.9       6.1       8.9       7.2       7.05      6.3       5.85\n",
            "  6.25      6.38      6.        6.8       1.95      3.27      4.45\n",
            "  2.95      5.3       4.68      3.17      2.85      3.05      3.38\n",
            "  3.74      3.35      3.21      2.65      3.4       2.57      2.5\n",
            "  3.9       2.2       2.62      2.45      2.6       2.8       1.74\n",
            "  2.4       3.6       2.15      3.25      2.9       2.3       3.3\n",
            "  2.06      2.94      2.7       2.        3.08      1.9       1.28\n",
            "  2.08      2.76      3.94      3.        2.12      4.1       5.45\n",
            "  7.1       3.85      4.92      4.35      4.4       8.21      4.\n",
            "  7.65      8.42      9.4       8.6      10.8      10.52      7.6\n",
            "  7.9       9.01     13.       11.75      5.88      5.58      5.28\n",
            "  9.58      6.62     10.68     10.26      8.66      8.5       5.5\n",
            "  9.899999  9.7       7.7      10.2       9.3       9.2     ]\n",
            "Hue: [1.04  1.05  1.03  0.86  1.02  1.06  1.08  1.01  1.25  1.17  1.15  1.2\n",
            " 1.28  1.07  1.13  1.23  0.96  1.09  1.11  1.12  0.92  1.19  1.1   1.18\n",
            " 0.89  0.95  0.91  0.88  0.82  0.87  1.24  0.98  0.94  1.22  1.45  0.906\n",
            " 1.36  1.31  0.99  1.38  1.16  0.84  0.79  1.33  1.    1.42  1.27  0.8\n",
            " 0.75  0.9   0.93  1.71  0.7   0.73  0.69  0.97  0.76  0.74  0.66  0.78\n",
            " 0.81  0.77  0.65  0.6   0.58  0.54  0.55  0.57  0.59  0.48  0.61  0.56\n",
            " 0.67  0.68  0.85  0.72  0.62  0.64 ]\n",
            "Dilution: [3.92 3.4  3.17 3.45 2.93 2.85 3.58 3.55 2.82 2.9  2.73 3.   2.88 2.65\n",
            " 2.57 3.36 3.71 3.52 4.   3.63 3.82 3.2  3.22 2.77 3.59 2.71 2.87 3.47\n",
            " 2.78 2.51 2.69 3.53 3.38 3.56 3.35 3.33 3.44 2.75 3.1  2.91 3.37 3.26\n",
            " 3.03 3.31 2.84 1.82 1.67 1.59 2.46 2.23 2.3  3.18 3.48 1.93 3.07 3.16\n",
            " 3.5  3.13 2.14 2.48 2.52 2.31 3.12 3.14 2.72 2.01 3.08 2.26 3.21 2.27\n",
            " 2.06 3.3  2.96 2.63 2.74 2.83 2.44 3.57 2.42 3.02 2.81 2.5  3.19 2.12\n",
            " 3.05 3.39 3.69 3.64 3.28 1.29 1.42 1.36 1.51 1.58 1.27 1.69 2.15 2.47\n",
            " 2.05 2.   1.68 1.33 1.86 1.62 1.3  1.47 1.55 1.48 1.64 1.73 1.96 1.78\n",
            " 2.11 1.75 1.56 1.8  1.92 1.83 1.63 1.71 1.74 1.6 ]\n",
            "Proline: [1065 1050 1185 1480  735 1450 1290 1295 1045 1510 1280 1320 1150 1547\n",
            " 1310 1130 1680  845  780  770 1035 1015  830 1195 1285  915 1515  990\n",
            " 1235 1095  920  880 1105 1020  760  795  680  885 1080  985 1060 1260\n",
            " 1265 1190 1375 1120  970 1270  520  450  630  420  355  678  502  510\n",
            "  750  718  870  410  472  886  428  392  500  463  278  714  515  495\n",
            "  562  625  480  290  345  937  660  406  710  438  415  672  315  488\n",
            "  312  325  607  434  385  407  372  564  465  365  380  378  352  466\n",
            "  342  580  530  560  600  650  695  720  590  550  855  425  675  640\n",
            "  725  620  570  615  685  470  740  835  840]\n"
          ]
        }
      ]
    },
    {
      "cell_type": "markdown",
      "source": [
        "# Principle Components Analysis"
      ],
      "metadata": {
        "id": "yyqQMH95Qw9j"
      }
    },
    {
      "cell_type": "code",
      "source": [
        "df1 = df.iloc[:, 1:]"
      ],
      "metadata": {
        "id": "ANcr-xaLQvSS"
      },
      "execution_count": 218,
      "outputs": []
    },
    {
      "cell_type": "code",
      "source": [
        "df2=df1.values\n",
        "df2"
      ],
      "metadata": {
        "colab": {
          "base_uri": "https://localhost:8080/"
        },
        "id": "KTgakmwlRBx2",
        "outputId": "fff911c2-aa3d-446c-b0c4-018c652980c4"
      },
      "execution_count": 219,
      "outputs": [
        {
          "output_type": "execute_result",
          "data": {
            "text/plain": [
              "array([[1.423e+01, 1.710e+00, 2.430e+00, ..., 1.040e+00, 3.920e+00,\n",
              "        1.065e+03],\n",
              "       [1.320e+01, 1.780e+00, 2.140e+00, ..., 1.050e+00, 3.400e+00,\n",
              "        1.050e+03],\n",
              "       [1.316e+01, 2.360e+00, 2.670e+00, ..., 1.030e+00, 3.170e+00,\n",
              "        1.185e+03],\n",
              "       ...,\n",
              "       [1.327e+01, 4.280e+00, 2.260e+00, ..., 5.900e-01, 1.560e+00,\n",
              "        8.350e+02],\n",
              "       [1.317e+01, 2.590e+00, 2.370e+00, ..., 6.000e-01, 1.620e+00,\n",
              "        8.400e+02],\n",
              "       [1.413e+01, 4.100e+00, 2.740e+00, ..., 6.100e-01, 1.600e+00,\n",
              "        5.600e+02]])"
            ]
          },
          "metadata": {},
          "execution_count": 219
        }
      ]
    },
    {
      "cell_type": "code",
      "source": [
        "# Normalizing the numerical data \n",
        "df2_normal=scale(df2)"
      ],
      "metadata": {
        "id": "TrriOTplRL75"
      },
      "execution_count": 220,
      "outputs": []
    },
    {
      "cell_type": "code",
      "source": [
        "df2_normal"
      ],
      "metadata": {
        "colab": {
          "base_uri": "https://localhost:8080/"
        },
        "id": "uJIKMD3FRfKn",
        "outputId": "e13e6242-31a3-4723-c0d0-9efd6c569156"
      },
      "execution_count": 221,
      "outputs": [
        {
          "output_type": "execute_result",
          "data": {
            "text/plain": [
              "array([[ 1.51861254, -0.5622498 ,  0.23205254, ...,  0.36217728,\n",
              "         1.84791957,  1.01300893],\n",
              "       [ 0.24628963, -0.49941338, -0.82799632, ...,  0.40605066,\n",
              "         1.1134493 ,  0.96524152],\n",
              "       [ 0.19687903,  0.02123125,  1.10933436, ...,  0.31830389,\n",
              "         0.78858745,  1.39514818],\n",
              "       ...,\n",
              "       [ 0.33275817,  1.74474449, -0.38935541, ..., -1.61212515,\n",
              "        -1.48544548,  0.28057537],\n",
              "       [ 0.20923168,  0.22769377,  0.01273209, ..., -1.56825176,\n",
              "        -1.40069891,  0.29649784],\n",
              "       [ 1.39508604,  1.58316512,  1.36520822, ..., -1.52437837,\n",
              "        -1.42894777, -0.59516041]])"
            ]
          },
          "metadata": {},
          "execution_count": 221
        }
      ]
    },
    {
      "cell_type": "code",
      "source": [
        "pca= PCA()\n",
        "pca_values= pca.fit_transform(df2_normal)\n",
        "#pca_values"
      ],
      "metadata": {
        "id": "agRVgfvYRfpC"
      },
      "execution_count": 222,
      "outputs": []
    },
    {
      "cell_type": "code",
      "source": [
        "## The amount of variance that each PCA explains is \n",
        "var=np.round(pca.explained_variance_ratio_,decimals=4)*100\n",
        "var"
      ],
      "metadata": {
        "colab": {
          "base_uri": "https://localhost:8080/"
        },
        "id": "uSo67RIwRzvg",
        "outputId": "1c379ecd-83de-4961-cd33-420b1a38834b"
      },
      "execution_count": 223,
      "outputs": [
        {
          "output_type": "execute_result",
          "data": {
            "text/plain": [
              "array([36.2 , 19.21, 11.12,  7.07,  6.56,  4.94,  4.24,  2.68,  2.22,\n",
              "        1.93,  1.74,  1.3 ,  0.8 ])"
            ]
          },
          "metadata": {},
          "execution_count": 223
        }
      ]
    },
    {
      "cell_type": "code",
      "source": [
        "PC = range(1, pca.n_components_+1)\n",
        "plt.bar(PC, pca.explained_variance_ratio_, color='purple')\n",
        "plt.xlabel('Principal Components')\n",
        "plt.ylabel('Variance %')\n",
        "plt.xticks(PC)\n",
        "plt.show()"
      ],
      "metadata": {
        "colab": {
          "base_uri": "https://localhost:8080/",
          "height": 279
        },
        "id": "k0XkU3TwSNtA",
        "outputId": "8bc6ab9c-574a-4293-c355-fb348d92d62e"
      },
      "execution_count": 224,
      "outputs": [
        {
          "output_type": "display_data",
          "data": {
            "text/plain": [
              "<Figure size 432x288 with 1 Axes>"
            ],
            "image/png": "[encoded data removed]"
          },
          "metadata": {
            "needs_background": "light"
          }
        }
      ]
    },
    {
      "cell_type": "code",
      "source": [
        "# plot between PCA1 and PCA2 \n",
        "x = pca_values[:,0:1]\n",
        "y = pca_values[:,1:2]\n",
        "plt.scatter(x,y)"
      ],
      "metadata": {
        "colab": {
          "base_uri": "https://localhost:8080/",
          "height": 282
        },
        "id": "ZUvYjiONUplG",
        "outputId": "41d2c20f-fe47-477a-9d44-6fdde45d617e"
      },
      "execution_count": 225,
      "outputs": [
        {
          "output_type": "execute_result",
          "data": {
            "text/plain": [
              "<matplotlib.collections.PathCollection at 0x7f404c4ecf90>"
            ]
          },
          "metadata": {},
          "execution_count": 225
        },
        {
          "output_type": "display_data",
          "data": {
            "text/plain": [
              "<Figure size 432x288 with 1 Axes>"
            ],
            "image/png": "[encoded data removed]"
          },
          "metadata": {
            "needs_background": "light"
          }
        }
      ]
    },
    {
      "cell_type": "markdown",
      "source": [
        "> we will select 2 principle components in our analysis"
      ],
      "metadata": {
        "id": "nn9YQr6tVP0D"
      }
    },
    {
      "cell_type": "code",
      "source": [
        "pca_df = pd.DataFrame(pca_values)\n",
        "pca_df"
      ],
      "metadata": {
        "colab": {
          "base_uri": "https://localhost:8080/",
          "height": 424
        },
        "id": "GprqD6m9XsBC",
        "outputId": "5212a3dd-7920-4bb8-8418-2a3ae623f909"
      },
      "execution_count": 226,
      "outputs": [
        {
          "output_type": "execute_result",
          "data": {
            "text/plain": [
              "           0         1         2         3         4         5         6   \\\n",
              "0    3.316751 -1.443463 -0.165739 -0.215631  0.693043 -0.223880  0.596427   \n",
              "1    2.209465  0.333393 -2.026457 -0.291358 -0.257655 -0.927120  0.053776   \n",
              "2    2.516740 -1.031151  0.982819  0.724902 -0.251033  0.549276  0.424205   \n",
              "3    3.757066 -2.756372 -0.176192  0.567983 -0.311842  0.114431 -0.383337   \n",
              "4    1.008908 -0.869831  2.026688 -0.409766  0.298458 -0.406520  0.444074   \n",
              "..        ...       ...       ...       ...       ...       ...       ...   \n",
              "173 -3.370524 -2.216289 -0.342570  1.058527 -0.574164 -1.108788  0.958416   \n",
              "174 -2.601956 -1.757229  0.207581  0.349496  0.255063 -0.026465  0.146894   \n",
              "175 -2.677839 -2.760899 -0.940942  0.312035  1.271355  0.273068  0.679235   \n",
              "176 -2.387017 -2.297347 -0.550696 -0.688285  0.813955  1.178783  0.633975   \n",
              "177 -3.208758 -2.768920  1.013914  0.596903 -0.895193  0.296092  0.005741   \n",
              "\n",
              "           7         8         9         10        11        12  \n",
              "0    0.065139  0.641443  1.020956 -0.451563  0.540810 -0.066239  \n",
              "1    1.024416 -0.308847  0.159701 -0.142657  0.388238  0.003637  \n",
              "2   -0.344216 -1.177834  0.113361 -0.286673  0.000584  0.021717  \n",
              "3    0.643593  0.052544  0.239413  0.759584 -0.242020 -0.369484  \n",
              "4    0.416700  0.326819 -0.078366 -0.525945 -0.216664 -0.079364  \n",
              "..        ...       ...       ...       ...       ...       ...  \n",
              "173 -0.146097 -0.022498 -0.304117  0.139228  0.170786 -0.114427  \n",
              "174 -0.552427 -0.097969 -0.206061  0.258198 -0.279431 -0.187371  \n",
              "175  0.047024  0.001222 -0.247997  0.512492  0.698766  0.072078  \n",
              "176  0.390829  0.057448  0.491490  0.299822  0.339821 -0.021866  \n",
              "177 -0.292914  0.741660 -0.117969 -0.229964 -0.188788 -0.323965  \n",
              "\n",
              "[178 rows x 13 columns]"
            ],
            "text/html": [
              "\n",
              "  <div id=\"df-8a252a0c-0e15-48e7-a853-1a144ee70894\">\n",
              "    <div class=\"colab-df-container\">\n",
              "      <div>\n",
              "<style scoped>\n",
              "    .dataframe tbody tr th:only-of-type {\n",
              "        vertical-align: middle;\n",
              "    }\n",
              "\n",
              "    .dataframe tbody tr th {\n",
              "        vertical-align: top;\n",
              "    }\n",
              "\n",
              "    .dataframe thead th {\n",
              "        text-align: right;\n",
              "    }\n",
              "</style>\n",
              "<table border=\"1\" class=\"dataframe\">\n",
              "  <thead>\n",
              "    <tr style=\"text-align: right;\">\n",
              "      <th></th>\n",
              "      <th>0</th>\n",
              "      <th>1</th>\n",
              "      <th>2</th>\n",
              "      <th>3</th>\n",
              "      <th>4</th>\n",
              "      <th>5</th>\n",
              "      <th>6</th>\n",
              "      <th>7</th>\n",
              "      <th>8</th>\n",
              "      <th>9</th>\n",
              "      <th>10</th>\n",
              "      <th>11</th>\n",
              "      <th>12</th>\n",
              "    </tr>\n",
              "  </thead>\n",
              "  <tbody>\n",
              "    <tr>\n",
              "      <th>0</th>\n",
              "      <td>3.316751</td>\n",
              "      <td>-1.443463</td>\n",
              "      <td>-0.165739</td>\n",
              "      <td>-0.215631</td>\n",
              "      <td>0.693043</td>\n",
              "      <td>-0.223880</td>\n",
              "      <td>0.596427</td>\n",
              "      <td>0.065139</td>\n",
              "      <td>0.641443</td>\n",
              "      <td>1.020956</td>\n",
              "      <td>-0.451563</td>\n",
              "      <td>0.540810</td>\n",
              "      <td>-0.066239</td>\n",
              "    </tr>\n",
              "    <tr>\n",
              "      <th>1</th>\n",
              "      <td>2.209465</td>\n",
              "      <td>0.333393</td>\n",
              "      <td>-2.026457</td>\n",
              "      <td>-0.291358</td>\n",
              "      <td>-0.257655</td>\n",
              "      <td>-0.927120</td>\n",
              "      <td>0.053776</td>\n",
              "      <td>1.024416</td>\n",
              "      <td>-0.308847</td>\n",
              "      <td>0.159701</td>\n",
              "      <td>-0.142657</td>\n",
              "      <td>0.388238</td>\n",
              "      <td>0.003637</td>\n",
              "    </tr>\n",
              "    <tr>\n",
              "      <th>2</th>\n",
              "      <td>2.516740</td>\n",
              "      <td>-1.031151</td>\n",
              "      <td>0.982819</td>\n",
              "      <td>0.724902</td>\n",
              "      <td>-0.251033</td>\n",
              "      <td>0.549276</td>\n",
              "      <td>0.424205</td>\n",
              "      <td>-0.344216</td>\n",
              "      <td>-1.177834</td>\n",
              "      <td>0.113361</td>\n",
              "      <td>-0.286673</td>\n",
              "      <td>0.000584</td>\n",
              "      <td>0.021717</td>\n",
              "    </tr>\n",
              "    <tr>\n",
              "      <th>3</th>\n",
              "      <td>3.757066</td>\n",
              "      <td>-2.756372</td>\n",
              "      <td>-0.176192</td>\n",
              "      <td>0.567983</td>\n",
              "      <td>-0.311842</td>\n",
              "      <td>0.114431</td>\n",
              "      <td>-0.383337</td>\n",
              "      <td>0.643593</td>\n",
              "      <td>0.052544</td>\n",
              "      <td>0.239413</td>\n",
              "      <td>0.759584</td>\n",
              "      <td>-0.242020</td>\n",
              "      <td>-0.369484</td>\n",
              "    </tr>\n",
              "    <tr>\n",
              "      <th>4</th>\n",
              "      <td>1.008908</td>\n",
              "      <td>-0.869831</td>\n",
              "      <td>2.026688</td>\n",
              "      <td>-0.409766</td>\n",
              "      <td>0.298458</td>\n",
              "      <td>-0.406520</td>\n",
              "      <td>0.444074</td>\n",
              "      <td>0.416700</td>\n",
              "      <td>0.326819</td>\n",
              "      <td>-0.078366</td>\n",
              "      <td>-0.525945</td>\n",
              "      <td>-0.216664</td>\n",
              "      <td>-0.079364</td>\n",
              "    </tr>\n",
              "    <tr>\n",
              "      <th>...</th>\n",
              "      <td>...</td>\n",
              "      <td>...</td>\n",
              "      <td>...</td>\n",
              "      <td>...</td>\n",
              "      <td>...</td>\n",
              "      <td>...</td>\n",
              "      <td>...</td>\n",
              "      <td>...</td>\n",
              "      <td>...</td>\n",
              "      <td>...</td>\n",
              "      <td>...</td>\n",
              "      <td>...</td>\n",
              "      <td>...</td>\n",
              "    </tr>\n",
              "    <tr>\n",
              "      <th>173</th>\n",
              "      <td>-3.370524</td>\n",
              "      <td>-2.216289</td>\n",
              "      <td>-0.342570</td>\n",
              "      <td>1.058527</td>\n",
              "      <td>-0.574164</td>\n",
              "      <td>-1.108788</td>\n",
              "      <td>0.958416</td>\n",
              "      <td>-0.146097</td>\n",
              "      <td>-0.022498</td>\n",
              "      <td>-0.304117</td>\n",
              "      <td>0.139228</td>\n",
              "      <td>0.170786</td>\n",
              "      <td>-0.114427</td>\n",
              "    </tr>\n",
              "    <tr>\n",
              "      <th>174</th>\n",
              "      <td>-2.601956</td>\n",
              "      <td>-1.757229</td>\n",
              "      <td>0.207581</td>\n",
              "      <td>0.349496</td>\n",
              "      <td>0.255063</td>\n",
              "      <td>-0.026465</td>\n",
              "      <td>0.146894</td>\n",
              "      <td>-0.552427</td>\n",
              "      <td>-0.097969</td>\n",
              "      <td>-0.206061</td>\n",
              "      <td>0.258198</td>\n",
              "      <td>-0.279431</td>\n",
              "      <td>-0.187371</td>\n",
              "    </tr>\n",
              "    <tr>\n",
              "      <th>175</th>\n",
              "      <td>-2.677839</td>\n",
              "      <td>-2.760899</td>\n",
              "      <td>-0.940942</td>\n",
              "      <td>0.312035</td>\n",
              "      <td>1.271355</td>\n",
              "      <td>0.273068</td>\n",
              "      <td>0.679235</td>\n",
              "      <td>0.047024</td>\n",
              "      <td>0.001222</td>\n",
              "      <td>-0.247997</td>\n",
              "      <td>0.512492</td>\n",
              "      <td>0.698766</td>\n",
              "      <td>0.072078</td>\n",
              "    </tr>\n",
              "    <tr>\n",
              "      <th>176</th>\n",
              "      <td>-2.387017</td>\n",
              "      <td>-2.297347</td>\n",
              "      <td>-0.550696</td>\n",
              "      <td>-0.688285</td>\n",
              "      <td>0.813955</td>\n",
              "      <td>1.178783</td>\n",
              "      <td>0.633975</td>\n",
              "      <td>0.390829</td>\n",
              "      <td>0.057448</td>\n",
              "      <td>0.491490</td>\n",
              "      <td>0.299822</td>\n",
              "      <td>0.339821</td>\n",
              "      <td>-0.021866</td>\n",
              "    </tr>\n",
              "    <tr>\n",
              "      <th>177</th>\n",
              "      <td>-3.208758</td>\n",
              "      <td>-2.768920</td>\n",
              "      <td>1.013914</td>\n",
              "      <td>0.596903</td>\n",
              "      <td>-0.895193</td>\n",
              "      <td>0.296092</td>\n",
              "      <td>0.005741</td>\n",
              "      <td>-0.292914</td>\n",
              "      <td>0.741660</td>\n",
              "      <td>-0.117969</td>\n",
              "      <td>-0.229964</td>\n",
              "      <td>-0.188788</td>\n",
              "      <td>-0.323965</td>\n",
              "    </tr>\n",
              "  </tbody>\n",
              "</table>\n",
              "<p>178 rows × 13 columns</p>\n",
              "</div>\n",
              "      <button class=\"colab-df-convert\" onclick=\"convertToInteractive('df-8a252a0c-0e15-48e7-a853-1a144ee70894')\"\n",
              "              title=\"Convert this dataframe to an interactive table.\"\n",
              "              style=\"display:none;\">\n",
              "        \n",
              "  <svg xmlns=\"http://www.w3.org/2000/svg\" height=\"24px\"viewBox=\"0 0 24 24\"\n",
              "       width=\"24px\">\n",
              "    <path d=\"M0 0h24v24H0V0z\" fill=\"none\"/>\n",
              "    <path d=\"M18.56 5.44l.94 2.06.94-2.06 2.06-.94-2.06-.94-.94-2.06-.94 2.06-2.06.94zm-11 1L8.5 8.5l.94-2.06 2.06-.94-2.06-.94L8.5 2.5l-.94 2.06-2.06.94zm10 10l.94 2.06.94-2.06 2.06-.94-2.06-.94-.94-2.06-.94 2.06-2.06.94z\"/><path d=\"M17.41 7.96l-1.37-1.37c-.4-.4-.92-.59-1.43-.59-.52 0-1.04.2-1.43.59L10.3 9.45l-7.72 7.72c-.78.78-.78 2.05 0 2.83L4 21.41c.39.39.9.59 1.41.59.51 0 1.02-.2 1.41-.59l7.78-7.78 2.81-2.81c.8-.78.8-2.07 0-2.86zM5.41 20L4 18.59l7.72-7.72 1.47 1.35L5.41 20z\"/>\n",
              "  </svg>\n",
              "      </button>\n",
              "      \n",
              "  <style>\n",
              "    .colab-df-container {\n",
              "      display:flex;\n",
              "      flex-wrap:wrap;\n",
              "      gap: 12px;\n",
              "    }\n",
              "\n",
              "    .colab-df-convert {\n",
              "      background-color: #E8F0FE;\n",
              "      border: none;\n",
              "      border-radius: 50%;\n",
              "      cursor: pointer;\n",
              "      display: none;\n",
              "      fill: #1967D2;\n",
              "      height: 32px;\n",
              "      padding: 0 0 0 0;\n",
              "      width: 32px;\n",
              "    }\n",
              "\n",
              "    .colab-df-convert:hover {\n",
              "      background-color: #E2EBFA;\n",
              "      box-shadow: 0px 1px 2px rgba(60, 64, 67, 0.3), 0px 1px 3px 1px rgba(60, 64, 67, 0.15);\n",
              "      fill: #174EA6;\n",
              "    }\n",
              "\n",
              "    [theme=dark] .colab-df-convert {\n",
              "      background-color: #3B4455;\n",
              "      fill: #D2E3FC;\n",
              "    }\n",
              "\n",
              "    [theme=dark] .colab-df-convert:hover {\n",
              "      background-color: #434B5C;\n",
              "      box-shadow: 0px 1px 3px 1px rgba(0, 0, 0, 0.15);\n",
              "      filter: drop-shadow(0px 1px 2px rgba(0, 0, 0, 0.3));\n",
              "      fill: #FFFFFF;\n",
              "    }\n",
              "  </style>\n",
              "\n",
              "      <script>\n",
              "        const buttonEl =\n",
              "          document.querySelector('#df-8a252a0c-0e15-48e7-a853-1a144ee70894 button.colab-df-convert');\n",
              "        buttonEl.style.display =\n",
              "          google.colab.kernel.accessAllowed ? 'block' : 'none';\n",
              "\n",
              "        async function convertToInteractive(key) {\n",
              "          const element = document.querySelector('#df-8a252a0c-0e15-48e7-a853-1a144ee70894');\n",
              "          const dataTable =\n",
              "            await google.colab.kernel.invokeFunction('convertToInteractive',\n",
              "                                                     [key], {});\n",
              "          if (!dataTable) return;\n",
              "\n",
              "          const docLinkHtml = 'Like what you see? Visit the ' +\n",
              "            '<a target=\"_blank\" href=https://colab.research.google.com/notebooks/data_table.ipynb>data table notebook</a>'\n",
              "            + ' to learn more about interactive tables.';\n",
              "          element.innerHTML = '';\n",
              "          dataTable['output_type'] = 'display_data';\n",
              "          await google.colab.output.renderOutput(dataTable, element);\n",
              "          const docLink = document.createElement('div');\n",
              "          docLink.innerHTML = docLinkHtml;\n",
              "          element.appendChild(docLink);\n",
              "        }\n",
              "      </script>\n",
              "    </div>\n",
              "  </div>\n",
              "  "
            ]
          },
          "metadata": {},
          "execution_count": 226
        }
      ]
    },
    {
      "cell_type": "code",
      "source": [
        "pca_df=pca_df.iloc[:,:2]"
      ],
      "metadata": {
        "id": "87ief_84YAcC"
      },
      "execution_count": 227,
      "outputs": []
    },
    {
      "cell_type": "markdown",
      "source": [
        "# Heirarchical Clustering"
      ],
      "metadata": {
        "id": "2Sn3Wdfh2aht"
      }
    },
    {
      "cell_type": "code",
      "source": [
        "pca_df1=pca_df.copy()"
      ],
      "metadata": {
        "id": "-5qxBWIIbFTB"
      },
      "execution_count": 228,
      "outputs": []
    },
    {
      "cell_type": "code",
      "source": [
        "# create dendrogram\n",
        "plt.figure(figsize=(20,10))\n",
        "dendrogram = sch.dendrogram(sch.linkage(pca_df1, method='complete'))"
      ],
      "metadata": {
        "colab": {
          "base_uri": "https://localhost:8080/",
          "height": 591
        },
        "id": "Vjsss5Ae6tPc",
        "outputId": "d82e7fa6-42e5-4841-cb21-bdba7e13a410"
      },
      "execution_count": 229,
      "outputs": [
        {
          "output_type": "display_data",
          "data": {
            "text/plain": [
              "<Figure size 1440x720 with 1 Axes>"
            ],
            "image/png": "[encoded data removed]"
          },
          "metadata": {
            "needs_background": "light"
          }
        }
      ]
    },
    {
      "cell_type": "code",
      "source": [
        "# create clusters\n",
        "hc = AgglomerativeClustering(n_clusters=3, affinity = 'euclidean', linkage = 'complete')"
      ],
      "metadata": {
        "id": "acnStCOe6wM8"
      },
      "execution_count": 230,
      "outputs": []
    },
    {
      "cell_type": "code",
      "source": [
        "hc.fit(pca_df1)"
      ],
      "metadata": {
        "colab": {
          "base_uri": "https://localhost:8080/"
        },
        "id": "eiHPJP-Y6_Aj",
        "outputId": "8ac0387f-1ce6-45f6-ad33-72ca7a392e42"
      },
      "execution_count": 231,
      "outputs": [
        {
          "output_type": "execute_result",
          "data": {
            "text/plain": [
              "AgglomerativeClustering(linkage='complete', n_clusters=3)"
            ]
          },
          "metadata": {},
          "execution_count": 231
        }
      ]
    },
    {
      "cell_type": "code",
      "source": [
        "# save clusters for chart\n",
        "y_hc = hc.fit_predict(pca_df1)"
      ],
      "metadata": {
        "id": "mpoepajs8LEf"
      },
      "execution_count": 232,
      "outputs": []
    },
    {
      "cell_type": "code",
      "source": [
        "y_hc"
      ],
      "metadata": {
        "colab": {
          "base_uri": "https://localhost:8080/"
        },
        "id": "mqmE8Ke08U33",
        "outputId": "7c6f885b-98e9-4d02-8cd8-bc994508ec7b"
      },
      "execution_count": 233,
      "outputs": [
        {
          "output_type": "execute_result",
          "data": {
            "text/plain": [
              "array([1, 1, 1, 1, 1, 1, 1, 1, 1, 1, 1, 1, 1, 1, 1, 1, 1, 1, 1, 1, 1, 1,\n",
              "       1, 1, 1, 1, 1, 1, 1, 1, 1, 1, 1, 1, 1, 1, 1, 1, 2, 1, 1, 1, 1, 1,\n",
              "       1, 1, 1, 1, 1, 1, 1, 1, 1, 1, 1, 1, 1, 1, 1, 2, 0, 0, 2, 2, 2, 2,\n",
              "       2, 2, 0, 2, 0, 2, 0, 1, 2, 2, 2, 0, 2, 2, 2, 2, 2, 0, 2, 2, 2, 2,\n",
              "       0, 2, 0, 0, 0, 2, 2, 1, 0, 2, 2, 2, 2, 2, 2, 2, 2, 0, 2, 0, 2, 2,\n",
              "       2, 2, 0, 2, 2, 2, 2, 2, 0, 2, 2, 1, 0, 0, 2, 2, 2, 0, 2, 0, 0, 0,\n",
              "       0, 0, 0, 0, 0, 0, 0, 0, 0, 0, 0, 0, 0, 0, 0, 0, 0, 0, 0, 0, 0, 0,\n",
              "       0, 0, 0, 0, 0, 0, 0, 0, 0, 0, 0, 0, 0, 0, 0, 0, 0, 0, 0, 0, 0, 0,\n",
              "       0, 0])"
            ]
          },
          "metadata": {},
          "execution_count": 233
        }
      ]
    },
    {
      "cell_type": "code",
      "source": [
        "pca_df1['cluster_id'] = y_hc+1"
      ],
      "metadata": {
        "id": "AV3SSDpP8U0t"
      },
      "execution_count": 234,
      "outputs": []
    },
    {
      "cell_type": "code",
      "source": [
        "pca_df1"
      ],
      "metadata": {
        "colab": {
          "base_uri": "https://localhost:8080/",
          "height": 424
        },
        "id": "p24mOaHYc2Gg",
        "outputId": "55597827-9300-4929-ef43-f054affd04cd"
      },
      "execution_count": 235,
      "outputs": [
        {
          "output_type": "execute_result",
          "data": {
            "text/plain": [
              "            0         1  cluster_id\n",
              "0    3.316751 -1.443463           2\n",
              "1    2.209465  0.333393           2\n",
              "2    2.516740 -1.031151           2\n",
              "3    3.757066 -2.756372           2\n",
              "4    1.008908 -0.869831           2\n",
              "..        ...       ...         ...\n",
              "173 -3.370524 -2.216289           1\n",
              "174 -2.601956 -1.757229           1\n",
              "175 -2.677839 -2.760899           1\n",
              "176 -2.387017 -2.297347           1\n",
              "177 -3.208758 -2.768920           1\n",
              "\n",
              "[178 rows x 3 columns]"
            ],
            "text/html": [
              "\n",
              "  <div id=\"df-1531d239-b14b-4401-a003-8daeeaa537eb\">\n",
              "    <div class=\"colab-df-container\">\n",
              "      <div>\n",
              "<style scoped>\n",
              "    .dataframe tbody tr th:only-of-type {\n",
              "        vertical-align: middle;\n",
              "    }\n",
              "\n",
              "    .dataframe tbody tr th {\n",
              "        vertical-align: top;\n",
              "    }\n",
              "\n",
              "    .dataframe thead th {\n",
              "        text-align: right;\n",
              "    }\n",
              "</style>\n",
              "<table border=\"1\" class=\"dataframe\">\n",
              "  <thead>\n",
              "    <tr style=\"text-align: right;\">\n",
              "      <th></th>\n",
              "      <th>0</th>\n",
              "      <th>1</th>\n",
              "      <th>cluster_id</th>\n",
              "    </tr>\n",
              "  </thead>\n",
              "  <tbody>\n",
              "    <tr>\n",
              "      <th>0</th>\n",
              "      <td>3.316751</td>\n",
              "      <td>-1.443463</td>\n",
              "      <td>2</td>\n",
              "    </tr>\n",
              "    <tr>\n",
              "      <th>1</th>\n",
              "      <td>2.209465</td>\n",
              "      <td>0.333393</td>\n",
              "      <td>2</td>\n",
              "    </tr>\n",
              "    <tr>\n",
              "      <th>2</th>\n",
              "      <td>2.516740</td>\n",
              "      <td>-1.031151</td>\n",
              "      <td>2</td>\n",
              "    </tr>\n",
              "    <tr>\n",
              "      <th>3</th>\n",
              "      <td>3.757066</td>\n",
              "      <td>-2.756372</td>\n",
              "      <td>2</td>\n",
              "    </tr>\n",
              "    <tr>\n",
              "      <th>4</th>\n",
              "      <td>1.008908</td>\n",
              "      <td>-0.869831</td>\n",
              "      <td>2</td>\n",
              "    </tr>\n",
              "    <tr>\n",
              "      <th>...</th>\n",
              "      <td>...</td>\n",
              "      <td>...</td>\n",
              "      <td>...</td>\n",
              "    </tr>\n",
              "    <tr>\n",
              "      <th>173</th>\n",
              "      <td>-3.370524</td>\n",
              "      <td>-2.216289</td>\n",
              "      <td>1</td>\n",
              "    </tr>\n",
              "    <tr>\n",
              "      <th>174</th>\n",
              "      <td>-2.601956</td>\n",
              "      <td>-1.757229</td>\n",
              "      <td>1</td>\n",
              "    </tr>\n",
              "    <tr>\n",
              "      <th>175</th>\n",
              "      <td>-2.677839</td>\n",
              "      <td>-2.760899</td>\n",
              "      <td>1</td>\n",
              "    </tr>\n",
              "    <tr>\n",
              "      <th>176</th>\n",
              "      <td>-2.387017</td>\n",
              "      <td>-2.297347</td>\n",
              "      <td>1</td>\n",
              "    </tr>\n",
              "    <tr>\n",
              "      <th>177</th>\n",
              "      <td>-3.208758</td>\n",
              "      <td>-2.768920</td>\n",
              "      <td>1</td>\n",
              "    </tr>\n",
              "  </tbody>\n",
              "</table>\n",
              "<p>178 rows × 3 columns</p>\n",
              "</div>\n",
              "      <button class=\"colab-df-convert\" onclick=\"convertToInteractive('df-1531d239-b14b-4401-a003-8daeeaa537eb')\"\n",
              "              title=\"Convert this dataframe to an interactive table.\"\n",
              "              style=\"display:none;\">\n",
              "        \n",
              "  <svg xmlns=\"http://www.w3.org/2000/svg\" height=\"24px\"viewBox=\"0 0 24 24\"\n",
              "       width=\"24px\">\n",
              "    <path d=\"M0 0h24v24H0V0z\" fill=\"none\"/>\n",
              "    <path d=\"M18.56 5.44l.94 2.06.94-2.06 2.06-.94-2.06-.94-.94-2.06-.94 2.06-2.06.94zm-11 1L8.5 8.5l.94-2.06 2.06-.94-2.06-.94L8.5 2.5l-.94 2.06-2.06.94zm10 10l.94 2.06.94-2.06 2.06-.94-2.06-.94-.94-2.06-.94 2.06-2.06.94z\"/><path d=\"M17.41 7.96l-1.37-1.37c-.4-.4-.92-.59-1.43-.59-.52 0-1.04.2-1.43.59L10.3 9.45l-7.72 7.72c-.78.78-.78 2.05 0 2.83L4 21.41c.39.39.9.59 1.41.59.51 0 1.02-.2 1.41-.59l7.78-7.78 2.81-2.81c.8-.78.8-2.07 0-2.86zM5.41 20L4 18.59l7.72-7.72 1.47 1.35L5.41 20z\"/>\n",
              "  </svg>\n",
              "      </button>\n",
              "      \n",
              "  <style>\n",
              "    .colab-df-container {\n",
              "      display:flex;\n",
              "      flex-wrap:wrap;\n",
              "      gap: 12px;\n",
              "    }\n",
              "\n",
              "    .colab-df-convert {\n",
              "      background-color: #E8F0FE;\n",
              "      border: none;\n",
              "      border-radius: 50%;\n",
              "      cursor: pointer;\n",
              "      display: none;\n",
              "      fill: #1967D2;\n",
              "      height: 32px;\n",
              "      padding: 0 0 0 0;\n",
              "      width: 32px;\n",
              "    }\n",
              "\n",
              "    .colab-df-convert:hover {\n",
              "      background-color: #E2EBFA;\n",
              "      box-shadow: 0px 1px 2px rgba(60, 64, 67, 0.3), 0px 1px 3px 1px rgba(60, 64, 67, 0.15);\n",
              "      fill: #174EA6;\n",
              "    }\n",
              "\n",
              "    [theme=dark] .colab-df-convert {\n",
              "      background-color: #3B4455;\n",
              "      fill: #D2E3FC;\n",
              "    }\n",
              "\n",
              "    [theme=dark] .colab-df-convert:hover {\n",
              "      background-color: #434B5C;\n",
              "      box-shadow: 0px 1px 3px 1px rgba(0, 0, 0, 0.15);\n",
              "      filter: drop-shadow(0px 1px 2px rgba(0, 0, 0, 0.3));\n",
              "      fill: #FFFFFF;\n",
              "    }\n",
              "  </style>\n",
              "\n",
              "      <script>\n",
              "        const buttonEl =\n",
              "          document.querySelector('#df-1531d239-b14b-4401-a003-8daeeaa537eb button.colab-df-convert');\n",
              "        buttonEl.style.display =\n",
              "          google.colab.kernel.accessAllowed ? 'block' : 'none';\n",
              "\n",
              "        async function convertToInteractive(key) {\n",
              "          const element = document.querySelector('#df-1531d239-b14b-4401-a003-8daeeaa537eb');\n",
              "          const dataTable =\n",
              "            await google.colab.kernel.invokeFunction('convertToInteractive',\n",
              "                                                     [key], {});\n",
              "          if (!dataTable) return;\n",
              "\n",
              "          const docLinkHtml = 'Like what you see? Visit the ' +\n",
              "            '<a target=\"_blank\" href=https://colab.research.google.com/notebooks/data_table.ipynb>data table notebook</a>'\n",
              "            + ' to learn more about interactive tables.';\n",
              "          element.innerHTML = '';\n",
              "          dataTable['output_type'] = 'display_data';\n",
              "          await google.colab.output.renderOutput(dataTable, element);\n",
              "          const docLink = document.createElement('div');\n",
              "          docLink.innerHTML = docLinkHtml;\n",
              "          element.appendChild(docLink);\n",
              "        }\n",
              "      </script>\n",
              "    </div>\n",
              "  </div>\n",
              "  "
            ]
          },
          "metadata": {},
          "execution_count": 235
        }
      ]
    },
    {
      "cell_type": "markdown",
      "source": [
        "# K-Means Clustering"
      ],
      "metadata": {
        "id": "a1MhkyLl8SSE"
      }
    },
    {
      "cell_type": "code",
      "source": [
        "pca_df2=pca_df.copy()"
      ],
      "metadata": {
        "id": "0Kzxz58mFHUy"
      },
      "execution_count": 236,
      "outputs": []
    },
    {
      "cell_type": "code",
      "source": [
        "wcss =[]\n",
        "for i in range(1,11):\n",
        "  kmeans=KMeans(n_clusters=i,random_state=0)\n",
        "  kmeans.fit(pca_df2)\n",
        "  wcss.append(kmeans.inertia_)\n",
        "\n",
        "plt.plot(range(1,11),wcss, 'bx-')\n",
        "plt.title(\"Elbow Method\")\n",
        "plt.xlabel('number of clusters')\n",
        "plt.ylabel('wcss')\n",
        "plt.show()"
      ],
      "metadata": {
        "colab": {
          "base_uri": "https://localhost:8080/",
          "height": 295
        },
        "id": "gLCRtOtxAOuD",
        "outputId": "20268f45-0cb5-4012-f204-c48b20a0ef2f"
      },
      "execution_count": 237,
      "outputs": [
        {
          "output_type": "display_data",
          "data": {
            "text/plain": [
              "<Figure size 432x288 with 1 Axes>"
            ],
            "image/png": "[encoded data removed]"
          },
          "metadata": {
            "needs_background": "light"
          }
        }
      ]
    },
    {
      "cell_type": "markdown",
      "source": [
        "* The scree plot levels off at k=3 and let's use it to determine the clusters."
      ],
      "metadata": {
        "id": "a-vZdxYCXGCI"
      }
    },
    {
      "cell_type": "code",
      "execution_count": 238,
      "metadata": {
        "id": "BSG1v_rZ_wSw",
        "outputId": "bc9eb992-d0d0-475f-fb2d-4bda07d734d0",
        "colab": {
          "base_uri": "https://localhost:8080/"
        }
      },
      "outputs": [
        {
          "output_type": "execute_result",
          "data": {
            "text/plain": [
              "KMeans(n_clusters=3, random_state=42)"
            ]
          },
          "metadata": {},
          "execution_count": 238
        }
      ],
      "source": [
        "#Build Cluster algorithm\n",
        "from sklearn.cluster import KMeans\n",
        "clusters_new = KMeans(3, random_state=42)\n",
        "clusters_new.fit(pca_df2)"
      ]
    },
    {
      "cell_type": "code",
      "execution_count": 239,
      "metadata": {
        "id": "b1QQLbZB_wSy",
        "outputId": "acd1be5e-0d85-4ab1-f577-45695e4f3237",
        "colab": {
          "base_uri": "https://localhost:8080/"
        }
      },
      "outputs": [
        {
          "output_type": "execute_result",
          "data": {
            "text/plain": [
              "array([1, 1, 1, 1, 1, 1, 1, 1, 1, 1, 1, 1, 1, 1, 1, 1, 1, 1, 1, 1, 1, 1,\n",
              "       1, 1, 1, 1, 1, 1, 1, 1, 1, 1, 1, 1, 1, 1, 1, 1, 1, 1, 1, 1, 1, 1,\n",
              "       1, 1, 1, 1, 1, 1, 1, 1, 1, 1, 1, 1, 1, 1, 1, 2, 2, 2, 2, 2, 2, 2,\n",
              "       2, 2, 2, 2, 2, 1, 2, 1, 2, 2, 2, 2, 2, 2, 2, 2, 2, 0, 2, 2, 2, 2,\n",
              "       2, 2, 2, 2, 2, 2, 2, 1, 2, 2, 1, 2, 2, 2, 2, 2, 2, 2, 2, 2, 2, 2,\n",
              "       2, 2, 2, 2, 2, 2, 2, 2, 2, 2, 2, 1, 2, 2, 2, 2, 2, 2, 2, 2, 0, 0,\n",
              "       0, 0, 0, 0, 0, 0, 0, 0, 0, 0, 0, 0, 0, 0, 0, 0, 0, 0, 0, 0, 0, 0,\n",
              "       0, 0, 0, 0, 0, 0, 0, 0, 0, 0, 0, 0, 0, 0, 0, 0, 0, 0, 0, 0, 0, 0,\n",
              "       0, 0], dtype=int32)"
            ]
          },
          "metadata": {},
          "execution_count": 239
        }
      ],
      "source": [
        "clusters_new.labels_"
      ]
    },
    {
      "cell_type": "code",
      "source": [
        "kmeans.inertia_"
      ],
      "metadata": {
        "colab": {
          "base_uri": "https://localhost:8080/"
        },
        "id": "MHL506KEAOv-",
        "outputId": "b3cb7f4a-ee49-4023-dfcb-1ebe5ae0b617"
      },
      "execution_count": 240,
      "outputs": [
        {
          "output_type": "execute_result",
          "data": {
            "text/plain": [
              "72.9410137517236"
            ]
          },
          "metadata": {},
          "execution_count": 240
        }
      ]
    },
    {
      "cell_type": "code",
      "execution_count": 241,
      "metadata": {
        "id": "KZWi-03W_wS8"
      },
      "outputs": [],
      "source": [
        "#Assign clusters to the data set\n",
        "pca_df2['kmeans_cluster_id'] = clusters_new.labels_"
      ]
    },
    {
      "cell_type": "code",
      "execution_count": 242,
      "metadata": {
        "scrolled": true,
        "id": "ObrgZ75T_wTO",
        "outputId": "a81575cc-f83e-45fa-9734-28026558ef71",
        "colab": {
          "base_uri": "https://localhost:8080/",
          "height": 175
        }
      },
      "outputs": [
        {
          "output_type": "execute_result",
          "data": {
            "text/plain": [
              "  kmeans_cluster_id         0         1\n",
              "                         mean      mean\n",
              "0                 0 -2.743930 -1.214191\n",
              "1                 1  2.266150 -0.865592\n",
              "2                 2 -0.162785  1.767588"
            ],
            "text/html": [
              "\n",
              "  <div id=\"df-fe0a8f0d-2d56-4410-b907-adacbd7a5bd7\">\n",
              "    <div class=\"colab-df-container\">\n",
              "      <div>\n",
              "<style scoped>\n",
              "    .dataframe tbody tr th:only-of-type {\n",
              "        vertical-align: middle;\n",
              "    }\n",
              "\n",
              "    .dataframe tbody tr th {\n",
              "        vertical-align: top;\n",
              "    }\n",
              "\n",
              "    .dataframe thead tr th {\n",
              "        text-align: left;\n",
              "    }\n",
              "</style>\n",
              "<table border=\"1\" class=\"dataframe\">\n",
              "  <thead>\n",
              "    <tr>\n",
              "      <th></th>\n",
              "      <th>kmeans_cluster_id</th>\n",
              "      <th>0</th>\n",
              "      <th>1</th>\n",
              "    </tr>\n",
              "    <tr>\n",
              "      <th></th>\n",
              "      <th></th>\n",
              "      <th>mean</th>\n",
              "      <th>mean</th>\n",
              "    </tr>\n",
              "  </thead>\n",
              "  <tbody>\n",
              "    <tr>\n",
              "      <th>0</th>\n",
              "      <td>0</td>\n",
              "      <td>-2.743930</td>\n",
              "      <td>-1.214191</td>\n",
              "    </tr>\n",
              "    <tr>\n",
              "      <th>1</th>\n",
              "      <td>1</td>\n",
              "      <td>2.266150</td>\n",
              "      <td>-0.865592</td>\n",
              "    </tr>\n",
              "    <tr>\n",
              "      <th>2</th>\n",
              "      <td>2</td>\n",
              "      <td>-0.162785</td>\n",
              "      <td>1.767588</td>\n",
              "    </tr>\n",
              "  </tbody>\n",
              "</table>\n",
              "</div>\n",
              "      <button class=\"colab-df-convert\" onclick=\"convertToInteractive('df-fe0a8f0d-2d56-4410-b907-adacbd7a5bd7')\"\n",
              "              title=\"Convert this dataframe to an interactive table.\"\n",
              "              style=\"display:none;\">\n",
              "        \n",
              "  <svg xmlns=\"http://www.w3.org/2000/svg\" height=\"24px\"viewBox=\"0 0 24 24\"\n",
              "       width=\"24px\">\n",
              "    <path d=\"M0 0h24v24H0V0z\" fill=\"none\"/>\n",
              "    <path d=\"M18.56 5.44l.94 2.06.94-2.06 2.06-.94-2.06-.94-.94-2.06-.94 2.06-2.06.94zm-11 1L8.5 8.5l.94-2.06 2.06-.94-2.06-.94L8.5 2.5l-.94 2.06-2.06.94zm10 10l.94 2.06.94-2.06 2.06-.94-2.06-.94-.94-2.06-.94 2.06-2.06.94z\"/><path d=\"M17.41 7.96l-1.37-1.37c-.4-.4-.92-.59-1.43-.59-.52 0-1.04.2-1.43.59L10.3 9.45l-7.72 7.72c-.78.78-.78 2.05 0 2.83L4 21.41c.39.39.9.59 1.41.59.51 0 1.02-.2 1.41-.59l7.78-7.78 2.81-2.81c.8-.78.8-2.07 0-2.86zM5.41 20L4 18.59l7.72-7.72 1.47 1.35L5.41 20z\"/>\n",
              "  </svg>\n",
              "      </button>\n",
              "      \n",
              "  <style>\n",
              "    .colab-df-container {\n",
              "      display:flex;\n",
              "      flex-wrap:wrap;\n",
              "      gap: 12px;\n",
              "    }\n",
              "\n",
              "    .colab-df-convert {\n",
              "      background-color: #E8F0FE;\n",
              "      border: none;\n",
              "      border-radius: 50%;\n",
              "      cursor: pointer;\n",
              "      display: none;\n",
              "      fill: #1967D2;\n",
              "      height: 32px;\n",
              "      padding: 0 0 0 0;\n",
              "      width: 32px;\n",
              "    }\n",
              "\n",
              "    .colab-df-convert:hover {\n",
              "      background-color: #E2EBFA;\n",
              "      box-shadow: 0px 1px 2px rgba(60, 64, 67, 0.3), 0px 1px 3px 1px rgba(60, 64, 67, 0.15);\n",
              "      fill: #174EA6;\n",
              "    }\n",
              "\n",
              "    [theme=dark] .colab-df-convert {\n",
              "      background-color: #3B4455;\n",
              "      fill: #D2E3FC;\n",
              "    }\n",
              "\n",
              "    [theme=dark] .colab-df-convert:hover {\n",
              "      background-color: #434B5C;\n",
              "      box-shadow: 0px 1px 3px 1px rgba(0, 0, 0, 0.15);\n",
              "      filter: drop-shadow(0px 1px 2px rgba(0, 0, 0, 0.3));\n",
              "      fill: #FFFFFF;\n",
              "    }\n",
              "  </style>\n",
              "\n",
              "      <script>\n",
              "        const buttonEl =\n",
              "          document.querySelector('#df-fe0a8f0d-2d56-4410-b907-adacbd7a5bd7 button.colab-df-convert');\n",
              "        buttonEl.style.display =\n",
              "          google.colab.kernel.accessAllowed ? 'block' : 'none';\n",
              "\n",
              "        async function convertToInteractive(key) {\n",
              "          const element = document.querySelector('#df-fe0a8f0d-2d56-4410-b907-adacbd7a5bd7');\n",
              "          const dataTable =\n",
              "            await google.colab.kernel.invokeFunction('convertToInteractive',\n",
              "                                                     [key], {});\n",
              "          if (!dataTable) return;\n",
              "\n",
              "          const docLinkHtml = 'Like what you see? Visit the ' +\n",
              "            '<a target=\"_blank\" href=https://colab.research.google.com/notebooks/data_table.ipynb>data table notebook</a>'\n",
              "            + ' to learn more about interactive tables.';\n",
              "          element.innerHTML = '';\n",
              "          dataTable['output_type'] = 'display_data';\n",
              "          await google.colab.output.renderOutput(dataTable, element);\n",
              "          const docLink = document.createElement('div');\n",
              "          docLink.innerHTML = docLinkHtml;\n",
              "          element.appendChild(docLink);\n",
              "        }\n",
              "      </script>\n",
              "    </div>\n",
              "  </div>\n",
              "  "
            ]
          },
          "metadata": {},
          "execution_count": 242
        }
      ],
      "source": [
        "pca_df2.groupby('kmeans_cluster_id').agg(['mean']).reset_index()"
      ]
    },
    {
      "cell_type": "code",
      "source": [
        "pca_df2.head()"
      ],
      "metadata": {
        "colab": {
          "base_uri": "https://localhost:8080/",
          "height": 206
        },
        "id": "jbWdP7CPAOl4",
        "outputId": "145e2ba2-95da-445b-fc0c-930645e44d3c"
      },
      "execution_count": 243,
      "outputs": [
        {
          "output_type": "execute_result",
          "data": {
            "text/plain": [
              "          0         1  kmeans_cluster_id\n",
              "0  3.316751 -1.443463                  1\n",
              "1  2.209465  0.333393                  1\n",
              "2  2.516740 -1.031151                  1\n",
              "3  3.757066 -2.756372                  1\n",
              "4  1.008908 -0.869831                  1"
            ],
            "text/html": [
              "\n",
              "  <div id=\"df-f0cff8fe-408c-4a6a-b37e-3cf8f2eec6ee\">\n",
              "    <div class=\"colab-df-container\">\n",
              "      <div>\n",
              "<style scoped>\n",
              "    .dataframe tbody tr th:only-of-type {\n",
              "        vertical-align: middle;\n",
              "    }\n",
              "\n",
              "    .dataframe tbody tr th {\n",
              "        vertical-align: top;\n",
              "    }\n",
              "\n",
              "    .dataframe thead th {\n",
              "        text-align: right;\n",
              "    }\n",
              "</style>\n",
              "<table border=\"1\" class=\"dataframe\">\n",
              "  <thead>\n",
              "    <tr style=\"text-align: right;\">\n",
              "      <th></th>\n",
              "      <th>0</th>\n",
              "      <th>1</th>\n",
              "      <th>kmeans_cluster_id</th>\n",
              "    </tr>\n",
              "  </thead>\n",
              "  <tbody>\n",
              "    <tr>\n",
              "      <th>0</th>\n",
              "      <td>3.316751</td>\n",
              "      <td>-1.443463</td>\n",
              "      <td>1</td>\n",
              "    </tr>\n",
              "    <tr>\n",
              "      <th>1</th>\n",
              "      <td>2.209465</td>\n",
              "      <td>0.333393</td>\n",
              "      <td>1</td>\n",
              "    </tr>\n",
              "    <tr>\n",
              "      <th>2</th>\n",
              "      <td>2.516740</td>\n",
              "      <td>-1.031151</td>\n",
              "      <td>1</td>\n",
              "    </tr>\n",
              "    <tr>\n",
              "      <th>3</th>\n",
              "      <td>3.757066</td>\n",
              "      <td>-2.756372</td>\n",
              "      <td>1</td>\n",
              "    </tr>\n",
              "    <tr>\n",
              "      <th>4</th>\n",
              "      <td>1.008908</td>\n",
              "      <td>-0.869831</td>\n",
              "      <td>1</td>\n",
              "    </tr>\n",
              "  </tbody>\n",
              "</table>\n",
              "</div>\n",
              "      <button class=\"colab-df-convert\" onclick=\"convertToInteractive('df-f0cff8fe-408c-4a6a-b37e-3cf8f2eec6ee')\"\n",
              "              title=\"Convert this dataframe to an interactive table.\"\n",
              "              style=\"display:none;\">\n",
              "        \n",
              "  <svg xmlns=\"http://www.w3.org/2000/svg\" height=\"24px\"viewBox=\"0 0 24 24\"\n",
              "       width=\"24px\">\n",
              "    <path d=\"M0 0h24v24H0V0z\" fill=\"none\"/>\n",
              "    <path d=\"M18.56 5.44l.94 2.06.94-2.06 2.06-.94-2.06-.94-.94-2.06-.94 2.06-2.06.94zm-11 1L8.5 8.5l.94-2.06 2.06-.94-2.06-.94L8.5 2.5l-.94 2.06-2.06.94zm10 10l.94 2.06.94-2.06 2.06-.94-2.06-.94-.94-2.06-.94 2.06-2.06.94z\"/><path d=\"M17.41 7.96l-1.37-1.37c-.4-.4-.92-.59-1.43-.59-.52 0-1.04.2-1.43.59L10.3 9.45l-7.72 7.72c-.78.78-.78 2.05 0 2.83L4 21.41c.39.39.9.59 1.41.59.51 0 1.02-.2 1.41-.59l7.78-7.78 2.81-2.81c.8-.78.8-2.07 0-2.86zM5.41 20L4 18.59l7.72-7.72 1.47 1.35L5.41 20z\"/>\n",
              "  </svg>\n",
              "      </button>\n",
              "      \n",
              "  <style>\n",
              "    .colab-df-container {\n",
              "      display:flex;\n",
              "      flex-wrap:wrap;\n",
              "      gap: 12px;\n",
              "    }\n",
              "\n",
              "    .colab-df-convert {\n",
              "      background-color: #E8F0FE;\n",
              "      border: none;\n",
              "      border-radius: 50%;\n",
              "      cursor: pointer;\n",
              "      display: none;\n",
              "      fill: #1967D2;\n",
              "      height: 32px;\n",
              "      padding: 0 0 0 0;\n",
              "      width: 32px;\n",
              "    }\n",
              "\n",
              "    .colab-df-convert:hover {\n",
              "      background-color: #E2EBFA;\n",
              "      box-shadow: 0px 1px 2px rgba(60, 64, 67, 0.3), 0px 1px 3px 1px rgba(60, 64, 67, 0.15);\n",
              "      fill: #174EA6;\n",
              "    }\n",
              "\n",
              "    [theme=dark] .colab-df-convert {\n",
              "      background-color: #3B4455;\n",
              "      fill: #D2E3FC;\n",
              "    }\n",
              "\n",
              "    [theme=dark] .colab-df-convert:hover {\n",
              "      background-color: #434B5C;\n",
              "      box-shadow: 0px 1px 3px 1px rgba(0, 0, 0, 0.15);\n",
              "      filter: drop-shadow(0px 1px 2px rgba(0, 0, 0, 0.3));\n",
              "      fill: #FFFFFF;\n",
              "    }\n",
              "  </style>\n",
              "\n",
              "      <script>\n",
              "        const buttonEl =\n",
              "          document.querySelector('#df-f0cff8fe-408c-4a6a-b37e-3cf8f2eec6ee button.colab-df-convert');\n",
              "        buttonEl.style.display =\n",
              "          google.colab.kernel.accessAllowed ? 'block' : 'none';\n",
              "\n",
              "        async function convertToInteractive(key) {\n",
              "          const element = document.querySelector('#df-f0cff8fe-408c-4a6a-b37e-3cf8f2eec6ee');\n",
              "          const dataTable =\n",
              "            await google.colab.kernel.invokeFunction('convertToInteractive',\n",
              "                                                     [key], {});\n",
              "          if (!dataTable) return;\n",
              "\n",
              "          const docLinkHtml = 'Like what you see? Visit the ' +\n",
              "            '<a target=\"_blank\" href=https://colab.research.google.com/notebooks/data_table.ipynb>data table notebook</a>'\n",
              "            + ' to learn more about interactive tables.';\n",
              "          element.innerHTML = '';\n",
              "          dataTable['output_type'] = 'display_data';\n",
              "          await google.colab.output.renderOutput(dataTable, element);\n",
              "          const docLink = document.createElement('div');\n",
              "          docLink.innerHTML = docLinkHtml;\n",
              "          element.appendChild(docLink);\n",
              "        }\n",
              "      </script>\n",
              "    </div>\n",
              "  </div>\n",
              "  "
            ]
          },
          "metadata": {},
          "execution_count": 243
        }
      ]
    },
    {
      "cell_type": "code",
      "source": [
        "plt.scatter(pca_df2[0], pca_df2[1], c=clusters_new.labels_)\n",
        "plt.show()"
      ],
      "metadata": {
        "colab": {
          "base_uri": "https://localhost:8080/",
          "height": 265
        },
        "id": "uqL1-nNqZhKP",
        "outputId": "6320e40e-c2aa-44ac-f1c2-b53ca4c747eb"
      },
      "execution_count": 244,
      "outputs": [
        {
          "output_type": "display_data",
          "data": {
            "text/plain": [
              "<Figure size 432x288 with 1 Axes>"
            ],
            "image/png": "[encoded data removed]"
          },
          "metadata": {
            "needs_background": "light"
          }
        }
      ]
    },
    {
      "cell_type": "markdown",
      "source": [
        "# DB-Scan"
      ],
      "metadata": {
        "id": "uXDWZPhGDZS8"
      }
    },
    {
      "cell_type": "code",
      "source": [
        "pca_df3=pca_df.copy()"
      ],
      "metadata": {
        "id": "RYls8QElFUix"
      },
      "execution_count": 245,
      "outputs": []
    },
    {
      "cell_type": "code",
      "source": [
        "dbscan = DBSCAN(eps=5, min_samples=4)\n",
        "dbscan.fit(pca_df3)"
      ],
      "metadata": {
        "colab": {
          "base_uri": "https://localhost:8080/"
        },
        "id": "48sS-y5mP2sv",
        "outputId": "ecb337fe-6146-4f94-8eeb-96eeb5dce116"
      },
      "execution_count": 246,
      "outputs": [
        {
          "output_type": "execute_result",
          "data": {
            "text/plain": [
              "DBSCAN(eps=5, min_samples=4)"
            ]
          },
          "metadata": {},
          "execution_count": 246
        }
      ]
    },
    {
      "cell_type": "code",
      "source": [
        "#Noicy samples are given the label -1\n",
        "dbscan.labels_"
      ],
      "metadata": {
        "colab": {
          "base_uri": "https://localhost:8080/"
        },
        "id": "_nsRAFN0QYl1",
        "outputId": "6a4dfcf6-56a5-4ae0-f7f8-548bb51e0134"
      },
      "execution_count": 247,
      "outputs": [
        {
          "output_type": "execute_result",
          "data": {
            "text/plain": [
              "array([0, 0, 0, 0, 0, 0, 0, 0, 0, 0, 0, 0, 0, 0, 0, 0, 0, 0, 0, 0, 0, 0,\n",
              "       0, 0, 0, 0, 0, 0, 0, 0, 0, 0, 0, 0, 0, 0, 0, 0, 0, 0, 0, 0, 0, 0,\n",
              "       0, 0, 0, 0, 0, 0, 0, 0, 0, 0, 0, 0, 0, 0, 0, 0, 0, 0, 0, 0, 0, 0,\n",
              "       0, 0, 0, 0, 0, 0, 0, 0, 0, 0, 0, 0, 0, 0, 0, 0, 0, 0, 0, 0, 0, 0,\n",
              "       0, 0, 0, 0, 0, 0, 0, 0, 0, 0, 0, 0, 0, 0, 0, 0, 0, 0, 0, 0, 0, 0,\n",
              "       0, 0, 0, 0, 0, 0, 0, 0, 0, 0, 0, 0, 0, 0, 0, 0, 0, 0, 0, 0, 0, 0,\n",
              "       0, 0, 0, 0, 0, 0, 0, 0, 0, 0, 0, 0, 0, 0, 0, 0, 0, 0, 0, 0, 0, 0,\n",
              "       0, 0, 0, 0, 0, 0, 0, 0, 0, 0, 0, 0, 0, 0, 0, 0, 0, 0, 0, 0, 0, 0,\n",
              "       0, 0])"
            ]
          },
          "metadata": {},
          "execution_count": 247
        }
      ]
    },
    {
      "cell_type": "code",
      "source": [
        "#assign clusters to the dataset\n",
        "pca_df3[\"DB_cluster_id\"] = dbscan.labels_\n",
        "pca_df3.head()"
      ],
      "metadata": {
        "colab": {
          "base_uri": "https://localhost:8080/",
          "height": 206
        },
        "id": "trWorFN9qzLo",
        "outputId": "225193b9-c9ed-44f3-a5af-63609077549d"
      },
      "execution_count": 248,
      "outputs": [
        {
          "output_type": "execute_result",
          "data": {
            "text/plain": [
              "          0         1  DB_cluster_id\n",
              "0  3.316751 -1.443463              0\n",
              "1  2.209465  0.333393              0\n",
              "2  2.516740 -1.031151              0\n",
              "3  3.757066 -2.756372              0\n",
              "4  1.008908 -0.869831              0"
            ],
            "text/html": [
              "\n",
              "  <div id=\"df-ab05dd87-3055-4abf-b31f-c117f5e86242\">\n",
              "    <div class=\"colab-df-container\">\n",
              "      <div>\n",
              "<style scoped>\n",
              "    .dataframe tbody tr th:only-of-type {\n",
              "        vertical-align: middle;\n",
              "    }\n",
              "\n",
              "    .dataframe tbody tr th {\n",
              "        vertical-align: top;\n",
              "    }\n",
              "\n",
              "    .dataframe thead th {\n",
              "        text-align: right;\n",
              "    }\n",
              "</style>\n",
              "<table border=\"1\" class=\"dataframe\">\n",
              "  <thead>\n",
              "    <tr style=\"text-align: right;\">\n",
              "      <th></th>\n",
              "      <th>0</th>\n",
              "      <th>1</th>\n",
              "      <th>DB_cluster_id</th>\n",
              "    </tr>\n",
              "  </thead>\n",
              "  <tbody>\n",
              "    <tr>\n",
              "      <th>0</th>\n",
              "      <td>3.316751</td>\n",
              "      <td>-1.443463</td>\n",
              "      <td>0</td>\n",
              "    </tr>\n",
              "    <tr>\n",
              "      <th>1</th>\n",
              "      <td>2.209465</td>\n",
              "      <td>0.333393</td>\n",
              "      <td>0</td>\n",
              "    </tr>\n",
              "    <tr>\n",
              "      <th>2</th>\n",
              "      <td>2.516740</td>\n",
              "      <td>-1.031151</td>\n",
              "      <td>0</td>\n",
              "    </tr>\n",
              "    <tr>\n",
              "      <th>3</th>\n",
              "      <td>3.757066</td>\n",
              "      <td>-2.756372</td>\n",
              "      <td>0</td>\n",
              "    </tr>\n",
              "    <tr>\n",
              "      <th>4</th>\n",
              "      <td>1.008908</td>\n",
              "      <td>-0.869831</td>\n",
              "      <td>0</td>\n",
              "    </tr>\n",
              "  </tbody>\n",
              "</table>\n",
              "</div>\n",
              "      <button class=\"colab-df-convert\" onclick=\"convertToInteractive('df-ab05dd87-3055-4abf-b31f-c117f5e86242')\"\n",
              "              title=\"Convert this dataframe to an interactive table.\"\n",
              "              style=\"display:none;\">\n",
              "        \n",
              "  <svg xmlns=\"http://www.w3.org/2000/svg\" height=\"24px\"viewBox=\"0 0 24 24\"\n",
              "       width=\"24px\">\n",
              "    <path d=\"M0 0h24v24H0V0z\" fill=\"none\"/>\n",
              "    <path d=\"M18.56 5.44l.94 2.06.94-2.06 2.06-.94-2.06-.94-.94-2.06-.94 2.06-2.06.94zm-11 1L8.5 8.5l.94-2.06 2.06-.94-2.06-.94L8.5 2.5l-.94 2.06-2.06.94zm10 10l.94 2.06.94-2.06 2.06-.94-2.06-.94-.94-2.06-.94 2.06-2.06.94z\"/><path d=\"M17.41 7.96l-1.37-1.37c-.4-.4-.92-.59-1.43-.59-.52 0-1.04.2-1.43.59L10.3 9.45l-7.72 7.72c-.78.78-.78 2.05 0 2.83L4 21.41c.39.39.9.59 1.41.59.51 0 1.02-.2 1.41-.59l7.78-7.78 2.81-2.81c.8-.78.8-2.07 0-2.86zM5.41 20L4 18.59l7.72-7.72 1.47 1.35L5.41 20z\"/>\n",
              "  </svg>\n",
              "      </button>\n",
              "      \n",
              "  <style>\n",
              "    .colab-df-container {\n",
              "      display:flex;\n",
              "      flex-wrap:wrap;\n",
              "      gap: 12px;\n",
              "    }\n",
              "\n",
              "    .colab-df-convert {\n",
              "      background-color: #E8F0FE;\n",
              "      border: none;\n",
              "      border-radius: 50%;\n",
              "      cursor: pointer;\n",
              "      display: none;\n",
              "      fill: #1967D2;\n",
              "      height: 32px;\n",
              "      padding: 0 0 0 0;\n",
              "      width: 32px;\n",
              "    }\n",
              "\n",
              "    .colab-df-convert:hover {\n",
              "      background-color: #E2EBFA;\n",
              "      box-shadow: 0px 1px 2px rgba(60, 64, 67, 0.3), 0px 1px 3px 1px rgba(60, 64, 67, 0.15);\n",
              "      fill: #174EA6;\n",
              "    }\n",
              "\n",
              "    [theme=dark] .colab-df-convert {\n",
              "      background-color: #3B4455;\n",
              "      fill: #D2E3FC;\n",
              "    }\n",
              "\n",
              "    [theme=dark] .colab-df-convert:hover {\n",
              "      background-color: #434B5C;\n",
              "      box-shadow: 0px 1px 3px 1px rgba(0, 0, 0, 0.15);\n",
              "      filter: drop-shadow(0px 1px 2px rgba(0, 0, 0, 0.3));\n",
              "      fill: #FFFFFF;\n",
              "    }\n",
              "  </style>\n",
              "\n",
              "      <script>\n",
              "        const buttonEl =\n",
              "          document.querySelector('#df-ab05dd87-3055-4abf-b31f-c117f5e86242 button.colab-df-convert');\n",
              "        buttonEl.style.display =\n",
              "          google.colab.kernel.accessAllowed ? 'block' : 'none';\n",
              "\n",
              "        async function convertToInteractive(key) {\n",
              "          const element = document.querySelector('#df-ab05dd87-3055-4abf-b31f-c117f5e86242');\n",
              "          const dataTable =\n",
              "            await google.colab.kernel.invokeFunction('convertToInteractive',\n",
              "                                                     [key], {});\n",
              "          if (!dataTable) return;\n",
              "\n",
              "          const docLinkHtml = 'Like what you see? Visit the ' +\n",
              "            '<a target=\"_blank\" href=https://colab.research.google.com/notebooks/data_table.ipynb>data table notebook</a>'\n",
              "            + ' to learn more about interactive tables.';\n",
              "          element.innerHTML = '';\n",
              "          dataTable['output_type'] = 'display_data';\n",
              "          await google.colab.output.renderOutput(dataTable, element);\n",
              "          const docLink = document.createElement('div');\n",
              "          docLink.innerHTML = docLinkHtml;\n",
              "          element.appendChild(docLink);\n",
              "        }\n",
              "      </script>\n",
              "    </div>\n",
              "  </div>\n",
              "  "
            ]
          },
          "metadata": {},
          "execution_count": 248
        }
      ]
    },
    {
      "cell_type": "code",
      "source": [
        "round(pca_df3.mean(),4)"
      ],
      "metadata": {
        "id": "IItMEYjPGDEm",
        "colab": {
          "base_uri": "https://localhost:8080/"
        },
        "outputId": "71905e5c-c91a-417a-b555-b613d1580e3b"
      },
      "execution_count": 249,
      "outputs": [
        {
          "output_type": "execute_result",
          "data": {
            "text/plain": [
              "0                0.0\n",
              "1                0.0\n",
              "DB_cluster_id    0.0\n",
              "dtype: float64"
            ]
          },
          "metadata": {},
          "execution_count": 249
        }
      ]
    },
    {
      "cell_type": "markdown",
      "source": [
        "# Conclusion -\n",
        "  * Here,we have obtained 2 components from 13 components and selected 2 components explained 56% of variation of the dataset.\n",
        "  * Here, we can see that there exist 3 clusters in the dataset.\n"
      ],
      "metadata": {
        "id": "mCunSKSSb2SP"
      }
    }
  ]
}